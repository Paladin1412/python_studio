{
 "cells": [
  {
   "cell_type": "code",
   "execution_count": 2,
   "metadata": {},
   "outputs": [],
   "source": [
    "import glob"
   ]
  },
  {
   "cell_type": "code",
   "execution_count": 3,
   "metadata": {},
   "outputs": [],
   "source": [
    "# import os"
   ]
  },
  {
   "cell_type": "code",
   "execution_count": 51,
   "metadata": {},
   "outputs": [
    {
     "data": {
      "text/plain": [
       "['_wKgBDV7fPtCASMmoABfoNlboo-M406.pdf']"
      ]
     },
     "execution_count": 51,
     "metadata": {},
     "output_type": "execute_result"
    }
   ],
   "source": [
    "pdf_s = glob.glob(\"*.pdf\")\n",
    "pdf_s"
   ]
  },
  {
   "cell_type": "code",
   "execution_count": 9,
   "metadata": {},
   "outputs": [
    {
     "ename": "ImportError",
     "evalue": "cannot import name 'extract_pdf_content' from 'pdf_extractor' (C:\\Users\\17814\\.virtualenvs\\团队孵化阶段-2MKHSswn\\lib\\site-packages\\pdf_extractor\\__init__.py)",
     "output_type": "error",
     "traceback": [
      "\u001b[1;31m---------------------------------------------------------------------------\u001b[0m",
      "\u001b[1;31mImportError\u001b[0m                               Traceback (most recent call last)",
      "\u001b[1;32m<ipython-input-9-37a433be4f1f>\u001b[0m in \u001b[0;36m<module>\u001b[1;34m\u001b[0m\n\u001b[1;32m----> 1\u001b[1;33m \u001b[1;32mfrom\u001b[0m \u001b[0mpdf_extractor\u001b[0m \u001b[1;32mimport\u001b[0m \u001b[0mextract_pdf_content\u001b[0m\u001b[1;33m\u001b[0m\u001b[1;33m\u001b[0m\u001b[0m\n\u001b[0m\u001b[0;32m      2\u001b[0m \u001b[0mcontent\u001b[0m \u001b[1;33m=\u001b[0m \u001b[0mextract_pdf_content\u001b[0m\u001b[1;33m(\u001b[0m\u001b[0mpdf_s\u001b[0m\u001b[1;33m[\u001b[0m\u001b[1;36m0\u001b[0m\u001b[1;33m]\u001b[0m\u001b[1;33m)\u001b[0m\u001b[1;33m\u001b[0m\u001b[1;33m\u001b[0m\u001b[0m\n\u001b[0;32m      3\u001b[0m \u001b[0mcontent\u001b[0m\u001b[1;33m\u001b[0m\u001b[1;33m\u001b[0m\u001b[0m\n",
      "\u001b[1;31mImportError\u001b[0m: cannot import name 'extract_pdf_content' from 'pdf_extractor' (C:\\Users\\17814\\.virtualenvs\\团队孵化阶段-2MKHSswn\\lib\\site-packages\\pdf_extractor\\__init__.py)"
     ]
    }
   ],
   "source": [
    "from pdf_extractor import extract_pdf_content\n",
    "content = extract_pdf_content(pdf_s[0])\n",
    "content"
   ]
  },
  {
   "cell_type": "code",
   "execution_count": 13,
   "metadata": {},
   "outputs": [],
   "source": [
    "from io import StringIO\n",
    "\n",
    "from pdfminer.converter import TextConverter\n",
    "from pdfminer.layout import LAParams\n",
    "from pdfminer.pdfdocument import PDFDocument\n",
    "from pdfminer.pdfinterp import PDFResourceManager, PDFPageInterpreter\n",
    "from pdfminer.pdfpage import PDFPage\n",
    "from pdfminer.pdfparser import PDFParser\n",
    "\n",
    "output_string = StringIO()\n",
    "with open('_wKgBDV7fPtCASMmoABfoNlboo-M406.pdf', 'rb') as in_file:\n",
    "    parser = PDFParser(in_file)\n",
    "    doc = PDFDocument(parser)\n",
    "    rsrcmgr = PDFResourceManager()\n",
    "    device = TextConverter(rsrcmgr, output_string, laparams=LAParams())\n",
    "    interpreter = PDFPageInterpreter(rsrcmgr, device)\n",
    "    for page in PDFPage.create_pages(doc):\n",
    "        interpreter.process_page(page)\n",
    "\n",
    "text = output_string.getvalue()"
   ]
  },
  {
   "cell_type": "code",
   "execution_count": 26,
   "metadata": {},
   "outputs": [
    {
     "data": {
      "text/plain": [
       "'地球物理学进展 \\n\\nProgress in Geophysics \\n\\nISSN 1004-2903,CN 11-2982/P \\n\\n \\n\\n \\n\\n《地球物理学进展》网络首发论文 \\n\\n \\n\\n \\n\\n题目： \\n作者： \\n\\n储层物性的地震预测技术综述 \\n韩宏伟，程远锋，张云银，王兴谋，曲志鹏，隋志强，冯德永，梁鸿贤，王\\n玉梅，慎国强 \\n收稿日期： \\n2019-09-16 \\n网络首发日期：  2020-06-08 \\n引用格式： \\n\\n韩宏伟，程远锋，张云银，王兴谋，曲志鹏，隋志强，冯德永，梁鸿贤，王\\n玉梅，慎国强．储层物性的地震预测技术综述．地球物理学进展. \\nkns.cnki.net/kcms/detail/11.2982.P.20200608.1551.162.html \\n\\n \\n\\n \\n \\n \\n \\n\\n \\n\\n \\n\\n网络首发：在编辑部工作流程中，稿件从录用到出版要经历录用定稿、排版定稿、整期汇编定稿等阶\\n\\n段。录用定稿指内容已经确定，且通过同行评议、主编终审同意刊用的稿件。排版定稿指录用定稿按照期\\n\\n刊特定版式（包括网络呈现版式）排版后的稿件，可暂不确定出版年、卷、期和页码。整期汇编定稿指出\\n\\n版年、卷'"
      ]
     },
     "execution_count": 26,
     "metadata": {},
     "output_type": "execute_result"
    }
   ],
   "source": [
    "text = text[:500]\n",
    "text"
   ]
  },
  {
   "cell_type": "code",
   "execution_count": 47,
   "metadata": {},
   "outputs": [
    {
     "data": {
      "text/plain": [
       "['《地球物理学进展》网络首发论文',\n",
       " '储层物性的地震预测技术综述',\n",
       " '韩宏伟，程远锋，张云银，王兴谋，曲志鹏，隋志强，冯德永，梁鸿贤，王玉梅，慎国强',\n",
       " '2019-09-16',\n",
       " '2020-06-08',\n",
       " '韩宏伟，程远锋，张云银，王兴谋，曲志鹏，隋志强，冯德永，梁鸿贤，王玉梅，慎国强．储层物性的地震预测技术综述．地球物理学进展. \\nkns.cnki.net/kcms/detail/11.2982.P.20200608.1551.162.html']"
      ]
     },
     "execution_count": 47,
     "metadata": {},
     "output_type": "execute_result"
    }
   ],
   "source": [
    "import re\n",
    "text_list = []\n",
    "title_head = re.findall('/P \\n\\n \\n\\n \\n\\n(.*?) \\n\\n \\n\\n \\n\\n',text)[0]\n",
    "text_list.append(title_head)\n",
    "title = re.findall('作者： \\n\\n(.*?) \\n',text)[0]\n",
    "text_list.append(title)\n",
    "anuther = re.findall(' \\n作者： .*? \\n(.*?) \\n收稿日期：',text,re.S)[0].replace('\\n','')\n",
    "text_list.append(anuther)\n",
    "Date_of_receipt = re.findall('\\n收稿日期： \\n(.*?) \\n',text,re.S)[0]\n",
    "text_list.append(Date_of_receipt)\n",
    "first_launch = re.findall(' \\n网络首发日期：  (.*?) \\n',text,re.S)[0]\n",
    "text_list.append(first_launch)\n",
    "Reference_format =  re.findall('引用格式： \\n\\n(.*?) \\n\\n \\n\\n \\n \\n \\n \\n\\n \\n\\n \\n\\n网络首发：',text,re.S)[0].split('\\n')\n",
    "Reference_format[1] = ''.join(Reference_format[:2])\n",
    "Reference_format = '\\n'.join(Reference_format[1:])\n",
    "text_list.append(Reference_format)\n",
    "text_list"
   ]
  },
  {
   "cell_type": "code",
   "execution_count": 50,
   "metadata": {},
   "outputs": [],
   "source": [
    "import xlwt\n",
    " \n",
    "workbook = xlwt.Workbook(encoding='utf-8')\n",
    "booksheet = workbook.add_sheet('Sheet 1', cell_overwrite_ok=True)\n",
    "#存第一行cell(1,1)和cell(1,2)\n",
    "for i in range(len(text_list)):\n",
    "    booksheet.write(0,i,text_list[i])\n",
    "\n",
    "workbook.save('test_xlwt.xls')"
   ]
  },
  {
   "cell_type": "code",
   "execution_count": 49,
   "metadata": {},
   "outputs": [
    {
     "name": "stdout",
     "output_type": "stream",
     "text": [
      "Looking in indexes: https://pypi.tuna.tsinghua.edu.cn/simple\n",
      "Collecting xlwt\n",
      "  Downloading https://pypi.tuna.tsinghua.edu.cn/packages/44/48/def306413b25c3d01753603b1a222a011b8621aed27cd7f89cbc27e6b0f4/xlwt-1.3.0-py2.py3-none-any.whl (99 kB)\n",
      "Installing collected packages: xlwt\n",
      "Successfully installed xlwt-1.3.0\n"
     ]
    }
   ],
   "source": [
    "!pip install xlwt"
   ]
  }
 ],
 "metadata": {
  "kernelspec": {
   "display_name": "py36",
   "language": "python",
   "name": "py36"
  },
  "language_info": {
   "codemirror_mode": {
    "name": "ipython",
    "version": 3
   },
   "file_extension": ".py",
   "mimetype": "text/x-python",
   "name": "python",
   "nbconvert_exporter": "python",
   "pygments_lexer": "ipython3",
   "version": "3.7.6"
  }
 },
 "nbformat": 4,
 "nbformat_minor": 2
}
