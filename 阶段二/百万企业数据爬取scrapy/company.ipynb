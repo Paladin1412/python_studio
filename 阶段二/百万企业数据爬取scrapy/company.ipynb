{
 "cells": [
  {
   "cell_type": "code",
   "execution_count": 34,
   "metadata": {},
   "outputs": [],
   "source": [
    "from lxml.etree import HTML\n",
    "import requests\n",
    "from scrapy.selector import Selector\n",
    "url = 'https://jobs.51job.com/all/co2758227.html'\n",
    "headers = {\n",
    "    'User-Agent': 'Mozilla/5.0 (Windows NT 10.0; Win64; x64) AppleWebKit/537.36 (KHTML, like Gecko) Chrome/81.0.4044.129 Safari/537.36'\n",
    "}\n",
    "text = requests.get(url,headers=headers).content.decode('gbk')\n",
    "selector = Selector(text=text)\n",
    "str = selector.xpath('//*[@id=\"divCoPoster\"]/ul/li[.]/a/@bigimg').extract()\n",
    "str\n",
    "c_id = url.split('/co')[-1].split('.html')[0]\n",
    "c_id\n",
    "c_img = selector.xpath('//*[@id=\"divCoPoster\"]/ul/li[.]/a/@bigimg').extract()\n",
    "if c_img == []:\n",
    "    print('空')\n",
    "# '//*[@id=\"divCoPoster\"]/ul'"
   ]
  },
  {
   "cell_type": "code",
   "execution_count": null,
   "metadata": {},
   "outputs": [],
   "source": []
  },
  {
   "cell_type": "code",
   "execution_count": 33,
   "metadata": {},
   "outputs": [],
   "source": [
    "def get_image_url(selector):\n",
    "    companyj = {}\n",
    "    Xpath = [\n",
    "        ('//*[@id=\"hidCOID\"]/@value', 'c_id'),\n",
    "        ('/html/body/div[2]/div[2]/div[2]/div/h1/@title', 'c_name'),\n",
    "    ]\n",
    "    c_img = selector.xpath('//*[@id=\"divCoPoster\"]/ul/li[.]/a/@bigimg').extract()\n",
    "    if(c_img == []):\n",
    "        return\n",
    "    for xpath,key in Xpath:\n",
    "        try:\n",
    "            companyj[key] = selector.xpath(xpath).extract()[0]\n",
    "        except Exception as err:\n",
    "            print('对不起，您选择的公司不存在或者已经过期!')\n",
    "            companyj[key] = 'None'\n",
    "    companyj['c_img'] = c_img\n",
    "    return companyj\n",
    "companyj = get_image_url(selector)\n"
   ]
  },
  {
   "cell_type": "code",
   "execution_count": 35,
   "metadata": {},
   "outputs": [
    {
     "data": {
      "text/plain": [
       "['https://img01.51jobcdn.com/jc/companyimg/3/2759/2758227/61af08eeb3f4f3b16c0eeb144488c78a.jpg',\n",
       " 'https://img05.51jobcdn.com/jc/companyimg/3/2759/2758227/dfd89c808d26e1f6e3cfcccbcf3db84e.jpg',\n",
       " 'https://img01.51jobcdn.com/jc/companyimg/3/2759/2758227/0383ad9317f47083fc4386491e7fda69.jpg',\n",
       " 'https://img05.51jobcdn.com/jc/companyimg/3/2759/2758227/89a984c04e42984385eb2a11e2190e64.jpg']"
      ]
     },
     "execution_count": 35,
     "metadata": {},
     "output_type": "execute_result"
    }
   ],
   "source": [
    "for i in range(len(c_img)):\n",
    "    c_img[i] = 'https:' + c_img[i]\n",
    "c_img"
   ]
  },
  {
   "cell_type": "code",
   "execution_count": 2,
   "metadata": {},
   "outputs": [
    {
     "data": {
      "text/plain": [
       "'{\"c_id\": \"2758202\", \"c_name\": \"上海了赢医疗器械贸易商行\", \"c_img\": [\"//img06.51jobcdn.com/jc/companyimg/3/2759/2758202/5179b3ccf79cf405695c8b8a3e6c9847.jpg\"]}\\n{\"c_id\": \"2758227\", \"c_name\": \"字节跳动\", \"c_img\": [\"//img05.51jobcdn.com/jc/companyimg/3/2759/2758227/61af08eeb3f4f3b16c0eeb144488c78a.jpg\", \"//img04.51jobcdn.com/jc/companyimg/3/2759/2758227/dfd89c808d26e1f6e3cfcccbcf3db84e.jpg\", \"//img05.51jobcdn.com/jc/companyimg/3/2759/2758227/0383ad9317f47083fc4386491e7fda69.jpg\", \"//img04.51jobcdn.com/jc/companyimg/3/2759/2758227/89a984c04e42984385eb2a11e2190e64.jpg\"]}\\n{\"c_id\": \"2758266\", \"c_name\": \"深圳爱问科技股份有限公司\", \"c_img\": [\"//img05.51jobcdn.com/jc/companyimg/3/2759/2758266/fddad245e6ead5edbcebab9cea722226.jpg\", \"//img05.51jobcdn.com/jc/companyimg/3/2759/2758266/c6eba27c3bffeae72c305b197d524b21.jpg\", \"//img02.51jobcdn.com/jc/companyimg/3/2759/2758266/ccd4c437508f2629459263066dd05b55.jpg\", \"//img06.51jobcdn.com/jc/companyimg/3/2759/2758266/3cb4f7a2e34181146406680faa51c034.jpg\"]}\\n{\"c_id\": \"2758271\", \"c_name\": \"华孚时尚股份有限公司\", \"c_img\": [\"//img03.51jobcdn.com/jc/companyimg/3/2759/2758271/e9698f7f5e44f2815172e08a1a880170.jpg\", \"//img04.51jobcdn.com/jc/companyimg/3/2759/2758271/1a1fc836acad10af4ec8c3d8c7236740.jpg\", \"//img02.51jobcdn.com/jc/companyimg/3/2759/2758271/5a209dda3eb7d21ddea3d40ec9fc34a1.jpg\"]}'"
      ]
     },
     "execution_count": 2,
     "metadata": {},
     "output_type": "execute_result"
    }
   ],
   "source": [
    "f = open('conpany_img.txt','r',encoding='utf-8')\n",
    "txt = f.read()\n",
    "txt"
   ]
  },
  {
   "cell_type": "code",
   "execution_count": 11,
   "metadata": {},
   "outputs": [
    {
     "data": {
      "text/plain": [
       "['[\"//img06.51jobcdn.com/jc/companyimg/3/2759/2758202/5179b3ccf79cf405695c8b8a3e6c9847.jpg\"]',\n",
       " '[\"//img05.51jobcdn.com/jc/companyimg/3/2759/2758227/61af08eeb3f4f3b16c0eeb144488c78a.jpg\", \"//img04.51jobcdn.com/jc/companyimg/3/2759/2758227/dfd89c808d26e1f6e3cfcccbcf3db84e.jpg\", \"//img05.51jobcdn.com/jc/companyimg/3/2759/2758227/0383ad9317f47083fc4386491e7fda69.jpg\", \"//img04.51jobcdn.com/jc/companyimg/3/2759/2758227/89a984c04e42984385eb2a11e2190e64.jpg\"]',\n",
       " '[\"//img05.51jobcdn.com/jc/companyimg/3/2759/2758266/fddad245e6ead5edbcebab9cea722226.jpg\", \"//img05.51jobcdn.com/jc/companyimg/3/2759/2758266/c6eba27c3bffeae72c305b197d524b21.jpg\", \"//img02.51jobcdn.com/jc/companyimg/3/2759/2758266/ccd4c437508f2629459263066dd05b55.jpg\", \"//img06.51jobcdn.com/jc/companyimg/3/2759/2758266/3cb4f7a2e34181146406680faa51c034.jpg\"]']"
      ]
     },
     "execution_count": 11,
     "metadata": {},
     "output_type": "execute_result"
    }
   ],
   "source": [
    "import re\n",
    "url = re.findall('\"c_img\": (.*?)}\\n',txt)\n",
    "url"
   ]
  }
 ],
 "metadata": {
  "kernelspec": {
   "display_name": "Python 3",
   "language": "python",
   "name": "python3"
  },
  "language_info": {
   "codemirror_mode": {
    "name": "ipython",
    "version": 3
   },
   "file_extension": ".py",
   "mimetype": "text/x-python",
   "name": "python",
   "nbconvert_exporter": "python",
   "pygments_lexer": "ipython3",
   "version": "3.7.6"
  }
 },
 "nbformat": 4,
 "nbformat_minor": 2
}
