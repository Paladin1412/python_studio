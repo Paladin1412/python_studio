{
 "cells": [
  {
   "cell_type": "code",
   "execution_count": 1,
   "metadata": {},
   "outputs": [],
   "source": [
    "from selenium.webdriver import Chrome"
   ]
  },
  {
   "cell_type": "code",
   "execution_count": 2,
   "metadata": {},
   "outputs": [],
   "source": [
    "web = Chrome(executable_path='E:\\Google\\Chrome\\Application\\chromedriver.exe')"
   ]
  },
  {
   "cell_type": "code",
   "execution_count": 3,
   "metadata": {},
   "outputs": [],
   "source": [
    "web.get('https://shimo.im/login?from=home')"
   ]
  },
  {
   "cell_type": "code",
   "execution_count": 4,
   "metadata": {},
   "outputs": [
    {
     "data": {
      "text/plain": [
       "<selenium.webdriver.remote.webelement.WebElement (session=\"e9f9d0c63298373d80e91480cb1fb21b\", element=\"0.8061558003732576-1\")>"
      ]
     },
     "execution_count": 4,
     "metadata": {},
     "output_type": "execute_result"
    }
   ],
   "source": [
    "user = web.find_element_by_xpath('//*[@name=\"mobileOrEmail\"]')\n",
    "user"
   ]
  },
  {
   "cell_type": "code",
   "execution_count": 6,
   "metadata": {},
   "outputs": [
    {
     "data": {
      "text/plain": [
       "<selenium.webdriver.remote.webelement.WebElement (session=\"e9f9d0c63298373d80e91480cb1fb21b\", element=\"0.8061558003732576-3\")>"
      ]
     },
     "execution_count": 6,
     "metadata": {},
     "output_type": "execute_result"
    }
   ],
   "source": [
    "user = web.find_element_by_xpath('//*[@name=\"mobileOrEmail\"]')\n",
    "user.send_keys('63888590@qq.com')\n",
    "password = web.find_element_by_xpath('//*[@name=\"password\"]')\n",
    "password.send_keys('123456789')\n",
    "logon = web.find_element_by_xpath('//*[@class=\"sm-button submit sc-1n784rm-0 bcuuIb\"]')\n",
    "logon.click()"
   ]
  },
  {
   "cell_type": "code",
   "execution_count": 13,
   "metadata": {},
   "outputs": [
    {
     "data": {
      "text/plain": [
       "<selenium.webdriver.remote.webelement.WebElement (session=\"771632d835b0d4e10be03c304b59d7d8\", element=\"0.9584558218164494-2\")>"
      ]
     },
     "execution_count": 13,
     "metadata": {},
     "output_type": "execute_result"
    }
   ],
   "source": [
    "password = web.find_element_by_xpath('//*[@name=\"password\"]')\n",
    "password"
   ]
  },
  {
   "cell_type": "code",
   "execution_count": 14,
   "metadata": {},
   "outputs": [],
   "source": [
    "password.send_keys('123456789')"
   ]
  },
  {
   "cell_type": "code",
   "execution_count": 16,
   "metadata": {},
   "outputs": [
    {
     "data": {
      "text/plain": [
       "<selenium.webdriver.remote.webelement.WebElement (session=\"771632d835b0d4e10be03c304b59d7d8\", element=\"0.9584558218164494-3\")>"
      ]
     },
     "execution_count": 16,
     "metadata": {},
     "output_type": "execute_result"
    }
   ],
   "source": [
    "logon = web.find_element_by_xpath('//*[@class=\"sm-button submit sc-1n784rm-0 bcuuIb\"]')\n",
    "logon"
   ]
  },
  {
   "cell_type": "code",
   "execution_count": 17,
   "metadata": {},
   "outputs": [],
   "source": [
    "logon.click()"
   ]
  },
  {
   "cell_type": "code",
   "execution_count": null,
   "metadata": {},
   "outputs": [],
   "source": [
    "##web.execute_script(\"document.getElementsByClassName('geetest_refresh')[0].click()\")"
   ]
  },
  {
   "cell_type": "code",
   "execution_count": 18,
   "metadata": {},
   "outputs": [
    {
     "data": {
      "text/plain": [
       "'geetest_1591004891395({\"user_error\": \"\\\\u7f51\\\\u7edc\\\\u4e0d\\\\u7ed9\\\\u529b\", \"error_code\": \"error_02\", \"error\": \"old challenge\", \"status\": \"error\"})'"
      ]
     },
     "execution_count": 18,
     "metadata": {},
     "output_type": "execute_result"
    }
   ],
   "source": [
    "import requests\n",
    "response = requests.get('https://api.geetest.com/get.php?is_next=true&type=click&gt=be6b1ead17b7bd4e64d9b27e7051004a&challenge=cd86bea66c083fa774af75a03950b8f0&lang=zh-cn&https=true&protocol=https%3A%2F%2F&offline=false&product=embed&api_server=api.geetest.com&isPC=true&width=100%25&callback=geetest_1591004891395').text\n",
    "response"
   ]
  },
  {
   "cell_type": "code",
   "execution_count": 32,
   "metadata": {},
   "outputs": [],
   "source": [
    "def get_challenge(web):\n",
    "    selector = HTML(web.page_source)\n",
    "    data = selector.xpath('/html/head/script[7]/@src')\n",
    "    challenge = re.findall('&challenge=(.*?)&',str(data),re.S)\n",
    "    return challenge"
   ]
  },
  {
   "cell_type": "code",
   "execution_count": 40,
   "metadata": {},
   "outputs": [
    {
     "data": {
      "text/plain": [
       "['4dbf6c274453aa1b8f24714e655bc81b']"
      ]
     },
     "execution_count": 40,
     "metadata": {},
     "output_type": "execute_result"
    }
   ],
   "source": [
    "from lxml.etree import HTML\n",
    "import re\n",
    "selector = HTML(web.page_source)\n",
    "data = selector.xpath('/html/head/script[7]/@src')\n",
    "challenge = re.findall('&challenge=(.*?)&',str(data),re.S)\n",
    "challenge"
   ]
  },
  {
   "cell_type": "code",
   "execution_count": 35,
   "metadata": {},
   "outputs": [
    {
     "data": {
      "text/plain": [
       "'be6b1ead17b7bd4e64d9b27e7051004a'"
      ]
     },
     "execution_count": 35,
     "metadata": {},
     "output_type": "execute_result"
    }
   ],
   "source": [
    "def get_gt(web):\n",
    "    ele = web.find_element_by_xpath(\"//*[@charset='UTF-8'][2]\")\n",
    "    gt = ele.get_attribute('src').split('=')[1].split('&')[0]\n",
    "    return gt\n",
    "gt = get_gt(web)\n",
    "gt"
   ]
  },
  {
   "cell_type": "code",
   "execution_count": 41,
   "metadata": {},
   "outputs": [
    {
     "data": {
      "text/plain": [
       "'geetest_1591015898708({\"user_error\": \"\\\\u7f51\\\\u7edc\\\\u4e0d\\\\u7ed9\\\\u529b\", \"error_code\": \"error_02\", \"error\": \"old challenge\", \"status\": \"error\"})'"
      ]
     },
     "execution_count": 41,
     "metadata": {},
     "output_type": "execute_result"
    }
   ],
   "source": [
    "import time\n",
    "round(time.time()*1000)\n",
    "response = requests.get('https://api.geetest.com/get.php?is_next=true&type=click&gt=be6b1ead17b7bd4e64d9b27e7051004a&challenge={}&lang=zh-cn&https=true&protocol=https%3A%2F%2F&offline=false&product=embed&api_server=api.geetest.com&isPC=true&width=100%25&callback=geetest_{}'.format('931d1875d737e98b3fdf48a49986d2ee',round(time.time()*1000))).text\n",
    "response"
   ]
  },
  {
   "cell_type": "code",
   "execution_count": 65,
   "metadata": {
    "collapsed": true
   },
   "outputs": [
    {
     "name": "stdout",
     "output_type": "stream",
     "text": [
      "检测到重复链接，当前总计重复1张，本次任务重复率 16.67%\n",
      "检测到重复链接，当前总计重复2张，本次任务重复率 25.00%\n",
      "检测到重复链接，当前总计重复3张，本次任务重复率 33.33%\n",
      "检测到重复链接，当前总计重复4张，本次任务重复率 40.00%\n",
      "检测到重复链接，当前总计重复5张，本次任务重复率 45.45%\n",
      "已爬取 12 个验证码链接   完成 0.34%\n"
     ]
    },
    {
     "ename": "KeyboardInterrupt",
     "evalue": "",
     "output_type": "error",
     "traceback": [
      "\u001b[1;31m---------------------------------------------------------------------------\u001b[0m",
      "\u001b[1;31mKeyboardInterrupt\u001b[0m                         Traceback (most recent call last)",
      "\u001b[1;32m<ipython-input-65-438ab15ee7bc>\u001b[0m in \u001b[0;36m<module>\u001b[1;34m\u001b[0m\n\u001b[0;32m    129\u001b[0m \u001b[0mfd\u001b[0m \u001b[1;33m=\u001b[0m \u001b[0mopen\u001b[0m\u001b[1;33m(\u001b[0m\u001b[1;34m\"image_url.txt\"\u001b[0m\u001b[1;33m,\u001b[0m \u001b[1;34m'a'\u001b[0m\u001b[1;33m)\u001b[0m\u001b[1;33m\u001b[0m\u001b[1;33m\u001b[0m\u001b[0m\n\u001b[0;32m    130\u001b[0m \u001b[1;31m# 开始运行爬虫]\u001b[0m\u001b[1;33m\u001b[0m\u001b[1;33m\u001b[0m\u001b[1;33m\u001b[0m\u001b[0m\n\u001b[1;32m--> 131\u001b[1;33m \u001b[0mrun_scrape\u001b[0m\u001b[1;33m(\u001b[0m\u001b[1;33m)\u001b[0m\u001b[1;33m\u001b[0m\u001b[1;33m\u001b[0m\u001b[0m\n\u001b[0m",
      "\u001b[1;32m<ipython-input-65-438ab15ee7bc>\u001b[0m in \u001b[0;36mrun_scrape\u001b[1;34m()\u001b[0m\n\u001b[0;32m     97\u001b[0m \u001b[1;31m#         print(data)\u001b[0m\u001b[1;33m\u001b[0m\u001b[1;33m\u001b[0m\u001b[1;33m\u001b[0m\u001b[0m\n\u001b[0;32m     98\u001b[0m \u001b[1;31m#         t_url = \"https://static.geetest.com\" + re.search(r\"pic\\\": \\\"(.+?)\\\"\", str(data)).group(1)\u001b[0m\u001b[1;33m\u001b[0m\u001b[1;33m\u001b[0m\u001b[1;33m\u001b[0m\u001b[0m\n\u001b[1;32m---> 99\u001b[1;33m         \u001b[0mt_url\u001b[0m \u001b[1;33m=\u001b[0m \u001b[0mretry_clikc\u001b[0m\u001b[1;33m(\u001b[0m\u001b[0mweb\u001b[0m\u001b[1;33m)\u001b[0m\u001b[1;33m\u001b[0m\u001b[1;33m\u001b[0m\u001b[0m\n\u001b[0m\u001b[0;32m    100\u001b[0m         \u001b[0mcnt\u001b[0m \u001b[1;33m+=\u001b[0m \u001b[1;36m1\u001b[0m\u001b[1;33m\u001b[0m\u001b[1;33m\u001b[0m\u001b[0m\n\u001b[0;32m    101\u001b[0m         \u001b[1;32mif\u001b[0m \u001b[0mt_url\u001b[0m \u001b[1;32min\u001b[0m \u001b[0mpicSet\u001b[0m\u001b[1;33m:\u001b[0m\u001b[1;33m\u001b[0m\u001b[1;33m\u001b[0m\u001b[0m\n",
      "\u001b[1;32m<ipython-input-65-438ab15ee7bc>\u001b[0m in \u001b[0;36mretry_clikc\u001b[1;34m(web)\u001b[0m\n\u001b[0;32m     31\u001b[0m     web.execute_script(\n\u001b[0;32m     32\u001b[0m         \"document.getElementsByClassName('geetest_refresh')[0].click()\")\n\u001b[1;32m---> 33\u001b[1;33m     \u001b[0mtime\u001b[0m\u001b[1;33m.\u001b[0m\u001b[0msleep\u001b[0m\u001b[1;33m(\u001b[0m\u001b[1;36m2\u001b[0m\u001b[1;33m)\u001b[0m\u001b[1;33m\u001b[0m\u001b[1;33m\u001b[0m\u001b[0m\n\u001b[0m\u001b[0;32m     34\u001b[0m \u001b[1;31m#     return retry_clikc_child(web)\u001b[0m\u001b[1;33m\u001b[0m\u001b[1;33m\u001b[0m\u001b[1;33m\u001b[0m\u001b[0m\n\u001b[0;32m     35\u001b[0m     \u001b[0mele\u001b[0m \u001b[1;33m=\u001b[0m \u001b[0mweb\u001b[0m\u001b[1;33m.\u001b[0m\u001b[0mfind_elements_by_xpath\u001b[0m\u001b[1;33m(\u001b[0m\u001b[1;34m'//*[@class=\"geetest_item_img\"]'\u001b[0m\u001b[1;33m)\u001b[0m\u001b[1;33m\u001b[0m\u001b[1;33m\u001b[0m\u001b[0m\n",
      "\u001b[1;31mKeyboardInterrupt\u001b[0m: "
     ]
    }
   ],
   "source": [
    "from retrying import retry\n",
    "\n",
    "from wget import download\n",
    "\n",
    "\n",
    "# 传入参数为selenium的浏览器（状态为第一次进入页面），需要触发一次显示验证码并返回对应的图片地址\n",
    "\n",
    "\n",
    "def first_click(web):\n",
    "    logon = web.find_element_by_xpath('//*[@class=\"sm-button submit sc-1n784rm-0 bcuuIb\"]')\n",
    "    logon.click()\n",
    "    time.sleep(3)\n",
    "    ele = web.find_elements_by_xpath('//*[@class=\"geetest_item_img\"]')\n",
    "    for i in ele:\n",
    "        pic_url = i.get_attribute('src').split('?')[0]\n",
    "    return pic_url\n",
    "\n",
    "def retry_error(web):\n",
    "    web.execute_script(\"document.getElementsByClassName('geetest_panel_error_content')[0].click()\")\n",
    "    time.sleep(1)\n",
    "    ele = web.find_elements_by_xpath('//*[@class=\"geetest_item_img\"]')\n",
    "    for i in ele:\n",
    "        pic_url = i.get_attribute('src').split('?')[0]\n",
    "    return pic_url\n",
    "\n",
    "\n",
    "# 传入参数为selenium的浏览器（状态为触发5次之后的重试），需要触发一次显示验证码并返回对应的图片地址\n",
    "\n",
    "\n",
    "def retry_clikc(web):\n",
    "    web.execute_script(\n",
    "        \"document.getElementsByClassName('geetest_refresh')[0].click()\")\n",
    "    time.sleep(2)\n",
    "#     return retry_clikc_child(web)\n",
    "    ele = web.find_elements_by_xpath('//*[@class=\"geetest_item_img\"]')\n",
    "    for i in ele:\n",
    "        pic_url = i.get_attribute('src').split('?')[0]\n",
    "    return pic_url\n",
    "\n",
    "error_img_list = []  # 错误列表\n",
    "# picurlQ = []  # 下载图片任务队列\n",
    "picSet = set()  # 记录所有下载过的图片的集合\n",
    "ar_num = 0\n",
    "\n",
    "def run_scrape():\n",
    "    task_num = 100000  # 爬多少个验证码停止（包括重复的）\n",
    "    cnt = 0  # 用于记录一部分总数\n",
    "    cnt_c = 0  # 用于记录重试次数\n",
    "    du_cnt = 0  # 用于记录重复的次数\n",
    "    # thread_num = 5  # 下载的线程数\n",
    "    # down_thread = []  # 线程list\n",
    "    global web\n",
    "    web = Chrome(executable_path='E:\\Google\\Chrome\\Application\\chromedriver.exe')  # 使用Chrome打开，WebDrive放置在bin目录下因此不需要指定路径\n",
    "    web.get(\"https://shimo.im/login?from=home\")\n",
    "    user = web.find_element_by_xpath('//*[@name=\"mobileOrEmail\"]')\n",
    "    user.send_keys('63888590@qq.com')\n",
    "    password = web.find_element_by_xpath('//*[@name=\"password\"]')\n",
    "    password.send_keys('123456789')\n",
    "#         logon = web.find_element_by_xpath('//*[@class=\"sm-button submit sc-1n784rm-0 bcuuIb\"]')\n",
    "#         logon.click()\n",
    "    t_url = first_click(web)  # 初始页面第一次点击\n",
    "    # picurlQ.append(t_url)\n",
    "    picSet.add(t_url)\n",
    "    fd.write(t_url + '\\n')\n",
    "    gt = get_gt(web)  # 获取gt值（从头到位不会变）\n",
    "    with open(\"gt.txt\", 'w') as td:\n",
    "        td.write(gt)\n",
    "    challenge = get_challenge(web)  # 获取第一个challenge值\n",
    "\n",
    "    # 开启用于下载图片的线程\n",
    "    # for i in range(thread_num):\n",
    "    #     down_thread.append(myThread(i))\n",
    "    #     down_thread[i].start()\n",
    "\n",
    "    # 主爬取循环\n",
    "    while cnt + cnt_c + ar_num < task_num:\n",
    "        # 每5次需要点击重试\n",
    "        if cnt % 5 == 0 and cnt != 0:\n",
    "            cnt_c += 1\n",
    "            t_url = retry_error(web)  # 点击重试\n",
    "            # 如果这个url已经在里面，就跳过\n",
    "#             challenge = get_challenge(web)  # 获取challenge\n",
    "            if t_url in picSet:\n",
    "                du_cnt += 1\n",
    "                print(\"检测到重复链接，当前总计重复{}张，本次任务重复率 {:.2f}%\".format(\n",
    "                    du_cnt, (du_cnt / (cnt + cnt_c)) * 100))\n",
    "\n",
    "            else:\n",
    "                picSet.add(t_url)\n",
    "                fd.write(t_url + '\\n')\n",
    "                # picurlQ.append(t_url)\n",
    "                print(\"已爬取 {} 个验证码链接   完成 {:.2f}%\".format(cnt + cnt_c, ((cnt + cnt_c + ar_num) / task_num) * 100))\n",
    "        url = \"https://api.geetest.com/refresh.php?gt={}&challenge={}&lang=zh-cn&type=click&callback=geetest_{}\".format(\n",
    "            gt, challenge, int(round(time.time() * 1000)+3000))\n",
    "        print(url)\n",
    "        data = requests.get(url).text\n",
    "        print(data)\n",
    "        t_url = \"https://static.geetest.com\" + re.search(r\"pic\\\": \\\"(.+?)\\\"\", str(data)).group(1)\n",
    "        t_url = retry_clikc(web)\n",
    "        cnt += 1\n",
    "        if t_url in picSet:\n",
    "            du_cnt += 1\n",
    "            print(\"检测到重复链接，当前总计重复{}张，本次任务重复率 {:.2f}%\".format(\n",
    "                du_cnt, (du_cnt / (cnt + cnt_c)) * 100))\n",
    "            continue\n",
    "        picSet.add(t_url)\n",
    "        fd.write(t_url + '\\n')\n",
    "#     except Exception as e:\n",
    "#         web.close()\n",
    "#         run_scrape()\n",
    "        # picurlQ.append(t_url)\n",
    "        # finish = True\n",
    "        # for i in range(thread_num):\n",
    "        #     down_thread[i].join()\n",
    "    web.close()\n",
    "\n",
    "\n",
    "# 打开用于记录URL的文件\n",
    "fd = open(\"image_url.txt\", 'r')\n",
    "\n",
    "# 把所有文件中已经读到的添加到set中\n",
    "line = fd.readline()\n",
    "while line:\n",
    "    picSet.add(line)\n",
    "    line = fd.readline()\n",
    "ar_num = len(picSet)\n",
    "fd.close()\n",
    "\n",
    "fd = open(\"image_url.txt\", 'a')\n",
    "# 开始运行爬虫]\n",
    "run_scrape()"
   ]
  },
  {
   "cell_type": "code",
   "execution_count": 59,
   "metadata": {},
   "outputs": [
    {
     "data": {
      "text/plain": [
       "3458"
      ]
     },
     "execution_count": 59,
     "metadata": {},
     "output_type": "execute_result"
    }
   ],
   "source": [
    "1591017382899-1591017379441"
   ]
  },
  {
   "cell_type": "code",
   "execution_count": 75,
   "metadata": {},
   "outputs": [
    {
     "name": "stdout",
     "output_type": "stream",
     "text": [
      "https://api.geetest.com/refresh.php?gt=be6b1ead17b7bd4e64d9b27e7051004a&challenge=ba5a6ef8a1a462ff02e379f508ae35f1&lang=zh-cn&type=click&callback=geetest_1591022894780\n",
      "geetest_1591022894780({\"status\": \"success\", \"data\": {\"sign\": \"\", \"image_servers\": [\"static.geetest.com/\", \"dn-staticdown.qbox.me/\"], \"spec\": \"1*1\", \"num\": 0, \"pic_type\": \"word\", \"pic\": \"/nerualpic/word_l1_zh_2020.03.16/owl/5cc1606e75f4116a4c0d4104e93a0131.jpg\"}})\n",
      "https://api.geetest.com/refresh.php?gt=be6b1ead17b7bd4e64d9b27e7051004a&challenge=ba5a6ef8a1a462ff02e379f508ae35f1&lang=zh-cn&type=click&callback=geetest_1591022894988\n",
      "geetest_1591022894988({\"status\": \"success\", \"data\": {\"image_servers\": [\"static.geetest.com/\", \"dn-staticdown.qbox.me/\"], \"num\": 0, \"spec\": \"1*1\", \"pic_type\": \"word\", \"sign\": \"\", \"pic\": \"/nerualpic/word_l1_zh_2020.03.16/abstract/51139c81b6ad126836ab24068da054cb.jpg\"}})\n",
      "https://api.geetest.com/refresh.php?gt=be6b1ead17b7bd4e64d9b27e7051004a&challenge=ba5a6ef8a1a462ff02e379f508ae35f1&lang=zh-cn&type=click&callback=geetest_1591022895191\n",
      "geetest_1591022895191({\"status\": \"success\", \"data\": {\"image_servers\": [\"static.geetest.com/\", \"dn-staticdown.qbox.me/\"], \"num\": 0, \"pic\": \"/nerualpic/word_l1_zh_2020.03.16/abstract/661f71b4e40aa55759b7a94767ef54b1.jpg\", \"spec\": \"1*1\", \"pic_type\": \"word\", \"sign\": \"\"}})\n",
      "https://api.geetest.com/refresh.php?gt=be6b1ead17b7bd4e64d9b27e7051004a&challenge=ba5a6ef8a1a462ff02e379f508ae35f1&lang=zh-cn&type=click&callback=geetest_1591022895380\n",
      "geetest_1591022895380({\"status\": \"success\", \"data\": {\"pic\": \"/nerualpic/word_l1_zh_2020.03.16/girl2/325c55bf0bae0021afd0e4b0619854f5.jpg\", \"image_servers\": [\"static.geetest.com/\", \"dn-staticdown.qbox.me/\"], \"pic_type\": \"word\", \"spec\": \"1*1\", \"sign\": \"\", \"num\": 0}})\n",
      "https://api.geetest.com/refresh.php?gt=be6b1ead17b7bd4e64d9b27e7051004a&challenge=ba5a6ef8a1a462ff02e379f508ae35f1&lang=zh-cn&type=click&callback=geetest_1591022895569\n",
      "geetest_1591022895569({\"status\": \"success\", \"data\": {\"pic_type\": \"word\", \"sign\": \"\", \"spec\": \"1*1\", \"image_servers\": [\"static.geetest.com/\", \"dn-staticdown.qbox.me/\"], \"pic\": \"/nerualpic/word_l1_zh_2020.03.16/girl2/c86bcc1d6e221d9459e028cce3632543.jpg\", \"num\": 0}})\n",
      "ed0f01bb436f50da6fc131731ba0ce7b\n",
      "已爬取 6 个验证码链接   完成 0.38%\n",
      "https://api.geetest.com/refresh.php?gt=be6b1ead17b7bd4e64d9b27e7051004a&challenge=ed0f01bb436f50da6fc131731ba0ce7b&lang=zh-cn&type=click&callback=geetest_1591022898814\n",
      "geetest_1591022898814({\"status\": \"success\", \"data\": {\"pic_type\": \"word\", \"image_servers\": [\"static.geetest.com/\", \"dn-staticdown.qbox.me/\"], \"pic\": \"/nerualpic/word_l1_zh_2020.03.16/cubism6/eb732f5053b22108391b18c44cd461d0.jpg\", \"spec\": \"1*1\", \"num\": 0, \"sign\": \"\"}})\n",
      "https://api.geetest.com/refresh.php?gt=be6b1ead17b7bd4e64d9b27e7051004a&challenge=ed0f01bb436f50da6fc131731ba0ce7b&lang=zh-cn&type=click&callback=geetest_1591022899008\n",
      "geetest_1591022899008({\"status\": \"success\", \"data\": {\"pic_type\": \"word\", \"pic\": \"/nerualpic/word_l1_zh_2020.03.16/abstract/ae08e2fdd989b12c34b9091c40125fb3.jpg\", \"sign\": \"\", \"num\": 0, \"spec\": \"1*1\", \"image_servers\": [\"static.geetest.com/\", \"dn-staticdown.qbox.me/\"]}})\n",
      "https://api.geetest.com/refresh.php?gt=be6b1ead17b7bd4e64d9b27e7051004a&challenge=ed0f01bb436f50da6fc131731ba0ce7b&lang=zh-cn&type=click&callback=geetest_1591022899212\n",
      "geetest_1591022899212({\"status\": \"success\", \"data\": {\"image_servers\": [\"static.geetest.com/\", \"dn-staticdown.qbox.me/\"], \"num\": 0, \"spec\": \"1*1\", \"pic_type\": \"word\", \"sign\": \"\", \"pic\": \"/nerualpic/word_l1_zh_2020.03.16/girl2/98f0fb4f6a5e4b4637c156185a550a38.jpg\"}})\n",
      "https://api.geetest.com/refresh.php?gt=be6b1ead17b7bd4e64d9b27e7051004a&challenge=ed0f01bb436f50da6fc131731ba0ce7b&lang=zh-cn&type=click&callback=geetest_1591022899411\n",
      "geetest_1591022899411({\"status\": \"success\", \"data\": {\"pic\": \"/nerualpic/word_l1_zh_2020.03.16/girl2/925ffcf0a3cf62bf54aa207cb379ce85.jpg\", \"pic_type\": \"word\", \"spec\": \"1*1\", \"sign\": \"\", \"image_servers\": [\"static.geetest.com/\", \"dn-staticdown.qbox.me/\"], \"num\": 0}})\n",
      "https://api.geetest.com/refresh.php?gt=be6b1ead17b7bd4e64d9b27e7051004a&challenge=ed0f01bb436f50da6fc131731ba0ce7b&lang=zh-cn&type=click&callback=geetest_1591022899618\n",
      "geetest_1591022899618({\"status\": \"success\", \"data\": {\"num\": 0, \"spec\": \"1*1\", \"pic_type\": \"word\", \"pic\": \"/nerualpic/word_l1_zh_2020.03.16/cubism6/4f42a5b2b7ad9b4ad2c0eb2268e32e0a.jpg\", \"sign\": \"\", \"image_servers\": [\"static.geetest.com/\", \"dn-staticdown.qbox.me/\"]}})\n",
      "c945c864e552e099bdc87fc18a406242\n",
      "已爬取 12 个验证码链接   完成 0.38%\n",
      "https://api.geetest.com/refresh.php?gt=be6b1ead17b7bd4e64d9b27e7051004a&challenge=c945c864e552e099bdc87fc18a406242&lang=zh-cn&type=click&callback=geetest_1591022902889\n",
      "geetest_1591022902889({\"status\": \"success\", \"data\": {\"pic_type\": \"word\", \"image_servers\": [\"static.geetest.com/\", \"dn-staticdown.qbox.me/\"], \"pic\": \"/nerualpic/word_l1_zh_2020.03.16/harley1/d13286b479f024b2421061a9df362abf.jpg\", \"spec\": \"1*1\", \"num\": 0, \"sign\": \"\"}})\n",
      "https://api.geetest.com/refresh.php?gt=be6b1ead17b7bd4e64d9b27e7051004a&challenge=c945c864e552e099bdc87fc18a406242&lang=zh-cn&type=click&callback=geetest_1591022903088\n",
      "geetest_1591022903088({\"status\": \"success\", \"data\": {\"spec\": \"1*1\", \"num\": 0, \"sign\": \"\", \"image_servers\": [\"static.geetest.com/\", \"dn-staticdown.qbox.me/\"], \"pic_type\": \"word\", \"pic\": \"/nerualpic/word_l1_zh_2020.03.16/owl/bf5f04fe7c388fc913df0c54bfcbf3b4.jpg\"}})\n",
      "https://api.geetest.com/refresh.php?gt=be6b1ead17b7bd4e64d9b27e7051004a&challenge=c945c864e552e099bdc87fc18a406242&lang=zh-cn&type=click&callback=geetest_1591022903290\n",
      "geetest_1591022903290({\"status\": \"success\", \"data\": {\"pic_type\": \"word\", \"spec\": \"1*1\", \"pic\": \"/nerualpic/word_l1_zh_2020.03.16/girl2/cf9c36ce7c6b25e0948c109146d6695c.jpg\", \"image_servers\": [\"static.geetest.com/\", \"dn-staticdown.qbox.me/\"], \"num\": 0, \"sign\": \"\"}})\n",
      "https://api.geetest.com/refresh.php?gt=be6b1ead17b7bd4e64d9b27e7051004a&challenge=c945c864e552e099bdc87fc18a406242&lang=zh-cn&type=click&callback=geetest_1591022903492\n",
      "geetest_1591022903492({\"status\": \"success\", \"data\": {\"sign\": \"\", \"image_servers\": [\"static.geetest.com/\", \"dn-staticdown.qbox.me/\"], \"spec\": \"1*1\", \"num\": 0, \"pic_type\": \"word\", \"pic\": \"/nerualpic/word_l1_zh_2020.03.16/abstract/4d2260157623c306b6003aa8ee32de92.jpg\"}})\n",
      "https://api.geetest.com/refresh.php?gt=be6b1ead17b7bd4e64d9b27e7051004a&challenge=c945c864e552e099bdc87fc18a406242&lang=zh-cn&type=click&callback=geetest_1591022903697\n",
      "geetest_1591022903697({\"status\": \"success\", \"data\": {\"pic_type\": \"word\", \"pic\": \"/nerualpic/word_l1_zh_2020.03.16/girl2/02caa721cf2536384ce0f6afb87fab89.jpg\", \"sign\": \"\", \"num\": 0, \"spec\": \"1*1\", \"image_servers\": [\"static.geetest.com/\", \"dn-staticdown.qbox.me/\"]}})\n",
      "cc7c869cf9e17582b9fe3cd193dc5a41\n",
      "已爬取 18 个验证码链接   完成 0.39%\n",
      "https://api.geetest.com/refresh.php?gt=be6b1ead17b7bd4e64d9b27e7051004a&challenge=cc7c869cf9e17582b9fe3cd193dc5a41&lang=zh-cn&type=click&callback=geetest_1591022906964\n",
      "geetest_1591022906964({\"status\": \"success\", \"data\": {\"spec\": \"1*1\", \"pic\": \"/nerualpic/word_l1_zh_2020.03.16/girl2/925ffcf0a3cf62bf54aa207cb379ce85.jpg\", \"sign\": \"\", \"num\": 0, \"image_servers\": [\"static.geetest.com/\", \"dn-staticdown.qbox.me/\"], \"pic_type\": \"word\"}})\n",
      "检测到重复链接，当前总计重复1张，本次任务重复率 5.26%\n",
      "https://api.geetest.com/refresh.php?gt=be6b1ead17b7bd4e64d9b27e7051004a&challenge=cc7c869cf9e17582b9fe3cd193dc5a41&lang=zh-cn&type=click&callback=geetest_1591022907150\n",
      "geetest_1591022907150({\"status\": \"success\", \"data\": {\"image_servers\": [\"static.geetest.com/\", \"dn-staticdown.qbox.me/\"], \"num\": 0, \"pic\": \"/nerualpic/word_l1_zh_2020.03.16/owl/ba34d8d83fa8c5ad50c8f67ad11dce6d.jpg\", \"spec\": \"1*1\", \"pic_type\": \"word\", \"sign\": \"\"}})\n",
      "https://api.geetest.com/refresh.php?gt=be6b1ead17b7bd4e64d9b27e7051004a&challenge=cc7c869cf9e17582b9fe3cd193dc5a41&lang=zh-cn&type=click&callback=geetest_1591022907342\n",
      "geetest_1591022907342({\"status\": \"success\", \"data\": {\"pic_type\": \"word\", \"num\": 0, \"sign\": \"\", \"spec\": \"1*1\", \"image_servers\": [\"static.geetest.com/\", \"dn-staticdown.qbox.me/\"], \"pic\": \"/nerualpic/word_l1_zh_2020.03.16/girl2/c3ad7ccd4c89bf9672e16299f1efa4e3.jpg\"}})\n",
      "https://api.geetest.com/refresh.php?gt=be6b1ead17b7bd4e64d9b27e7051004a&challenge=cc7c869cf9e17582b9fe3cd193dc5a41&lang=zh-cn&type=click&callback=geetest_1591022907565\n"
     ]
    },
    {
     "name": "stdout",
     "output_type": "stream",
     "text": [
      "geetest_1591022907565({\"status\": \"success\", \"data\": {\"spec\": \"1*1\", \"pic\": \"/nerualpic/word_l1_zh_2020.03.16/cubism6/4555d4c6e9b15e3283ffc7a6ac1cef79.jpg\", \"sign\": \"\", \"num\": 0, \"image_servers\": [\"static.geetest.com/\", \"dn-staticdown.qbox.me/\"], \"pic_type\": \"word\"}})\n",
      "https://api.geetest.com/refresh.php?gt=be6b1ead17b7bd4e64d9b27e7051004a&challenge=cc7c869cf9e17582b9fe3cd193dc5a41&lang=zh-cn&type=click&callback=geetest_1591022907769\n",
      "geetest_1591022907769({\"status\": \"success\", \"data\": {\"pic\": \"/nerualpic/word_l1_zh_2020.03.16/abstract/0d7600de3038f705284895bce6b33abc.jpg\", \"pic_type\": \"word\", \"image_servers\": [\"static.geetest.com/\", \"dn-staticdown.qbox.me/\"], \"num\": 0, \"spec\": \"1*1\", \"sign\": \"\"}})\n",
      "e7c041de111d3f895b952384bc2a90df\n",
      "已爬取 24 个验证码链接   完成 0.40%\n",
      "https://api.geetest.com/refresh.php?gt=be6b1ead17b7bd4e64d9b27e7051004a&challenge=e7c041de111d3f895b952384bc2a90df&lang=zh-cn&type=click&callback=geetest_1591022911032\n",
      "geetest_1591022911032({\"status\": \"success\", \"data\": {\"pic\": \"/nerualpic/word_l1_zh_2020.03.16/owl/f24e2f784d883fab8616d9c6384958cd.jpg\", \"pic_type\": \"word\", \"spec\": \"1*1\", \"sign\": \"\", \"image_servers\": [\"static.geetest.com/\", \"dn-staticdown.qbox.me/\"], \"num\": 0}})\n",
      "https://api.geetest.com/refresh.php?gt=be6b1ead17b7bd4e64d9b27e7051004a&challenge=e7c041de111d3f895b952384bc2a90df&lang=zh-cn&type=click&callback=geetest_1591022911234\n",
      "geetest_1591022911234({\"status\": \"success\", \"data\": {\"pic\": \"/nerualpic/word_l1_zh_2020.03.16/abstract/3574e9368da72b00c4886b1a669305b0.jpg\", \"pic_type\": \"word\", \"image_servers\": [\"static.geetest.com/\", \"dn-staticdown.qbox.me/\"], \"num\": 0, \"spec\": \"1*1\", \"sign\": \"\"}})\n",
      "https://api.geetest.com/refresh.php?gt=be6b1ead17b7bd4e64d9b27e7051004a&challenge=e7c041de111d3f895b952384bc2a90df&lang=zh-cn&type=click&callback=geetest_1591022911495\n",
      "geetest_1591022911495({\"status\": \"success\", \"data\": {\"spec\": \"1*1\", \"pic\": \"/nerualpic/word_l1_zh_2020.03.16/harley1/0286280ad23394be67a3fb567e54a1b0.jpg\", \"sign\": \"\", \"num\": 0, \"image_servers\": [\"static.geetest.com/\", \"dn-staticdown.qbox.me/\"], \"pic_type\": \"word\"}})\n",
      "https://api.geetest.com/refresh.php?gt=be6b1ead17b7bd4e64d9b27e7051004a&challenge=e7c041de111d3f895b952384bc2a90df&lang=zh-cn&type=click&callback=geetest_1591022911700\n",
      "geetest_1591022911700({\"status\": \"success\", \"data\": {\"pic\": \"/nerualpic/word_l1_zh_2020.03.16/owl/66f6e24fac52ec3f1477da1da3fb5f70.jpg\", \"spec\": \"1*1\", \"image_servers\": [\"static.geetest.com/\", \"dn-staticdown.qbox.me/\"], \"pic_type\": \"word\", \"num\": 0, \"sign\": \"\"}})\n",
      "https://api.geetest.com/refresh.php?gt=be6b1ead17b7bd4e64d9b27e7051004a&challenge=e7c041de111d3f895b952384bc2a90df&lang=zh-cn&type=click&callback=geetest_1591022911890\n",
      "geetest_1591022911890({\"status\": \"success\", \"data\": {\"pic_type\": \"word\", \"sign\": \"\", \"spec\": \"1*1\", \"image_servers\": [\"static.geetest.com/\", \"dn-staticdown.qbox.me/\"], \"pic\": \"/nerualpic/word_l1_zh_2020.03.16/cubism6/ae39c96931574c160b06586bffa53936.jpg\", \"num\": 0}})\n",
      "8907e8c80db99bfd1c98d2a56ded6415\n",
      "已爬取 30 个验证码链接   完成 0.40%\n",
      "https://api.geetest.com/refresh.php?gt=be6b1ead17b7bd4e64d9b27e7051004a&challenge=8907e8c80db99bfd1c98d2a56ded6415&lang=zh-cn&type=click&callback=geetest_1591022915135\n",
      "geetest_1591022915135({\"status\": \"success\", \"data\": {\"pic_type\": \"word\", \"spec\": \"1*1\", \"sign\": \"\", \"image_servers\": [\"static.geetest.com/\", \"dn-staticdown.qbox.me/\"], \"pic\": \"/nerualpic/word_l1_zh_2020.03.16/girl2/321ec288d0b7d2ea9f621306c8bd9d1c.jpg\", \"num\": 0}})\n",
      "https://api.geetest.com/refresh.php?gt=be6b1ead17b7bd4e64d9b27e7051004a&challenge=8907e8c80db99bfd1c98d2a56ded6415&lang=zh-cn&type=click&callback=geetest_1591022915326\n",
      "geetest_1591022915326({\"status\": \"success\", \"data\": {\"num\": 0, \"image_servers\": [\"static.geetest.com/\", \"dn-staticdown.qbox.me/\"], \"pic\": \"/nerualpic/word_l1_zh_2020.03.16/harley1/d027ab001e0611100a5551587801a693.jpg\", \"spec\": \"1*1\", \"sign\": \"\", \"pic_type\": \"word\"}})\n",
      "https://api.geetest.com/refresh.php?gt=be6b1ead17b7bd4e64d9b27e7051004a&challenge=8907e8c80db99bfd1c98d2a56ded6415&lang=zh-cn&type=click&callback=geetest_1591022915548\n",
      "geetest_1591022915548({\"status\": \"success\", \"data\": {\"pic_type\": \"word\", \"image_servers\": [\"static.geetest.com/\", \"dn-staticdown.qbox.me/\"], \"pic\": \"/nerualpic/word_l1_zh_2020.03.16/abstract/f1934855dec05d95afbfc48009b8ef3d.jpg\", \"spec\": \"1*1\", \"num\": 0, \"sign\": \"\"}})\n",
      "https://api.geetest.com/refresh.php?gt=be6b1ead17b7bd4e64d9b27e7051004a&challenge=8907e8c80db99bfd1c98d2a56ded6415&lang=zh-cn&type=click&callback=geetest_1591022915758\n",
      "geetest_1591022915758({\"status\": \"success\", \"data\": {\"pic\": \"/nerualpic/word_l1_zh_2020.03.16/cubism6/63d8a9a00361f475b15e8a6703169b03.jpg\", \"pic_type\": \"word\", \"spec\": \"1*1\", \"sign\": \"\", \"image_servers\": [\"static.geetest.com/\", \"dn-staticdown.qbox.me/\"], \"num\": 0}})\n",
      "https://api.geetest.com/refresh.php?gt=be6b1ead17b7bd4e64d9b27e7051004a&challenge=8907e8c80db99bfd1c98d2a56ded6415&lang=zh-cn&type=click&callback=geetest_1591022915963\n",
      "geetest_1591022915963({\"status\": \"success\", \"data\": {\"num\": 0, \"pic\": \"/nerualpic/word_l1_zh_2020.03.16/owl/9e91cd15c8228abe927ee64d810f0128.jpg\", \"image_servers\": [\"static.geetest.com/\", \"dn-staticdown.qbox.me/\"], \"sign\": \"\", \"spec\": \"1*1\", \"pic_type\": \"word\"}})\n",
      "be9f893f4576ab0e3c4cb1ca8509cdb3\n",
      "已爬取 36 个验证码链接   完成 0.41%\n",
      "https://api.geetest.com/refresh.php?gt=be6b1ead17b7bd4e64d9b27e7051004a&challenge=be9f893f4576ab0e3c4cb1ca8509cdb3&lang=zh-cn&type=click&callback=geetest_1591022919227\n",
      "geetest_1591022919227({\"status\": \"success\", \"data\": {\"image_servers\": [\"static.geetest.com/\", \"dn-staticdown.qbox.me/\"], \"num\": 0, \"pic_type\": \"word\", \"spec\": \"1*1\", \"pic\": \"/nerualpic/word_l1_zh_2020.03.16/girl2/53054bbbf71db0fca96bf79f6b46e635.jpg\", \"sign\": \"\"}})\n",
      "https://api.geetest.com/refresh.php?gt=be6b1ead17b7bd4e64d9b27e7051004a&challenge=be9f893f4576ab0e3c4cb1ca8509cdb3&lang=zh-cn&type=click&callback=geetest_1591022919424\n",
      "geetest_1591022919424({\"status\": \"success\", \"data\": {\"pic\": \"/nerualpic/word_l1_zh_2020.03.16/girl2/0a9ce4c344cee8d8d1f3306583a0275b.jpg\", \"pic_type\": \"word\", \"spec\": \"1*1\", \"sign\": \"\", \"image_servers\": [\"static.geetest.com/\", \"dn-staticdown.qbox.me/\"], \"num\": 0}})\n",
      "https://api.geetest.com/refresh.php?gt=be6b1ead17b7bd4e64d9b27e7051004a&challenge=be9f893f4576ab0e3c4cb1ca8509cdb3&lang=zh-cn&type=click&callback=geetest_1591022919615\n",
      "geetest_1591022919615({\"status\": \"success\", \"data\": {\"sign\": \"\", \"spec\": \"1*1\", \"pic\": \"/nerualpic/word_l1_zh_2020.03.16/girl2/7e69caaf387692dfd57611f71119fdce.jpg\", \"pic_type\": \"word\", \"image_servers\": [\"static.geetest.com/\", \"dn-staticdown.qbox.me/\"], \"num\": 0}})\n",
      "https://api.geetest.com/refresh.php?gt=be6b1ead17b7bd4e64d9b27e7051004a&challenge=be9f893f4576ab0e3c4cb1ca8509cdb3&lang=zh-cn&type=click&callback=geetest_1591022919812\n",
      "geetest_1591022919812({\"status\": \"success\", \"data\": {\"image_servers\": [\"static.geetest.com/\", \"dn-staticdown.qbox.me/\"], \"num\": 0, \"pic\": \"/nerualpic/word_l1_zh_2020.03.16/abstract/7a47273b4c3617c33bc0f1d153bcf6cb.jpg\", \"spec\": \"1*1\", \"pic_type\": \"word\", \"sign\": \"\"}})\n",
      "https://api.geetest.com/refresh.php?gt=be6b1ead17b7bd4e64d9b27e7051004a&challenge=be9f893f4576ab0e3c4cb1ca8509cdb3&lang=zh-cn&type=click&callback=geetest_1591022920002\n",
      "geetest_1591022920002({\"status\": \"success\", \"data\": {\"num\": 0, \"image_servers\": [\"static.geetest.com/\", \"dn-staticdown.qbox.me/\"], \"pic\": \"/nerualpic/word_l1_zh_2020.03.16/cubism6/04fc1d9adc821513efaaf4e90c37cceb.jpg\", \"spec\": \"1*1\", \"sign\": \"\", \"pic_type\": \"word\"}})\n",
      "1f579a57c34ffc1a6febe9aed3775ee8\n",
      "已爬取 42 个验证码链接   完成 0.41%\n",
      "https://api.geetest.com/refresh.php?gt=be6b1ead17b7bd4e64d9b27e7051004a&challenge=1f579a57c34ffc1a6febe9aed3775ee8&lang=zh-cn&type=click&callback=geetest_1591022923297\n",
      "geetest_1591022923297({\"status\": \"success\", \"data\": {\"spec\": \"1*1\", \"pic\": \"/nerualpic/word_l1_zh_2020.03.16/harley1/44e29ebfa5e3b5eefb763e676df02d24.jpg\", \"image_servers\": [\"static.geetest.com/\", \"dn-staticdown.qbox.me/\"], \"sign\": \"\", \"num\": 0, \"pic_type\": \"word\"}})\n",
      "https://api.geetest.com/refresh.php?gt=be6b1ead17b7bd4e64d9b27e7051004a&challenge=1f579a57c34ffc1a6febe9aed3775ee8&lang=zh-cn&type=click&callback=geetest_1591022923520\n",
      "geetest_1591022923520({\"status\": \"success\", \"data\": {\"num\": 0, \"pic_type\": \"word\", \"pic\": \"/nerualpic/word_l1_zh_2020.03.16/abstract/b979e66e0b9675d2b2931c4a46082132.jpg\", \"image_servers\": [\"static.geetest.com/\", \"dn-staticdown.qbox.me/\"], \"sign\": \"\", \"spec\": \"1*1\"}})\n",
      "https://api.geetest.com/refresh.php?gt=be6b1ead17b7bd4e64d9b27e7051004a&challenge=1f579a57c34ffc1a6febe9aed3775ee8&lang=zh-cn&type=click&callback=geetest_1591022923727\n"
     ]
    },
    {
     "name": "stdout",
     "output_type": "stream",
     "text": [
      "geetest_1591022923727({\"status\": \"success\", \"data\": {\"pic\": \"/nerualpic/word_l1_zh_2020.03.16/girl2/443c5d8ea81b83cc19536c5b02fbbc5b.jpg\", \"image_servers\": [\"static.geetest.com/\", \"dn-staticdown.qbox.me/\"], \"pic_type\": \"word\", \"spec\": \"1*1\", \"sign\": \"\", \"num\": 0}})\n",
      "https://api.geetest.com/refresh.php?gt=be6b1ead17b7bd4e64d9b27e7051004a&challenge=1f579a57c34ffc1a6febe9aed3775ee8&lang=zh-cn&type=click&callback=geetest_1591022923936\n",
      "geetest_1591022923936({\"status\": \"success\", \"data\": {\"sign\": \"\", \"spec\": \"1*1\", \"pic\": \"/nerualpic/word_l1_zh_2020.03.16/harley1/2062fdd7b00360a6a6c9b4ea10414634.jpg\", \"pic_type\": \"word\", \"image_servers\": [\"static.geetest.com/\", \"dn-staticdown.qbox.me/\"], \"num\": 0}})\n",
      "https://api.geetest.com/refresh.php?gt=be6b1ead17b7bd4e64d9b27e7051004a&challenge=1f579a57c34ffc1a6febe9aed3775ee8&lang=zh-cn&type=click&callback=geetest_1591022924141\n",
      "geetest_1591022924141({\"status\": \"success\", \"data\": {\"pic\": \"/nerualpic/word_l1_zh_2020.03.16/abstract/d0800e91bbd96ff80e70b3e195b17c6b.jpg\", \"spec\": \"1*1\", \"sign\": \"\", \"num\": 0, \"image_servers\": [\"static.geetest.com/\", \"dn-staticdown.qbox.me/\"], \"pic_type\": \"word\"}})\n",
      "1515db65f3cdf6a2a4f69105b75496bb\n",
      "已爬取 48 个验证码链接   完成 0.42%\n",
      "https://api.geetest.com/refresh.php?gt=be6b1ead17b7bd4e64d9b27e7051004a&challenge=1515db65f3cdf6a2a4f69105b75496bb&lang=zh-cn&type=click&callback=geetest_1591022927392\n",
      "geetest_1591022927392({\"status\": \"success\", \"data\": {\"pic_type\": \"word\", \"pic\": \"/nerualpic/word_l1_zh_2020.03.16/girl2/9cf97d5140baef7e00a5e121b1c7220e.jpg\", \"num\": 0, \"image_servers\": [\"static.geetest.com/\", \"dn-staticdown.qbox.me/\"], \"sign\": \"\", \"spec\": \"1*1\"}})\n",
      "https://api.geetest.com/refresh.php?gt=be6b1ead17b7bd4e64d9b27e7051004a&challenge=1515db65f3cdf6a2a4f69105b75496bb&lang=zh-cn&type=click&callback=geetest_1591022927584\n",
      "geetest_1591022927584({\"status\": \"success\", \"data\": {\"pic\": \"/nerualpic/word_l1_zh_2020.03.16/cubism6/860ad94f22ed479809a77e0310871073.jpg\", \"pic_type\": \"word\", \"image_servers\": [\"static.geetest.com/\", \"dn-staticdown.qbox.me/\"], \"num\": 0, \"spec\": \"1*1\", \"sign\": \"\"}})\n",
      "https://api.geetest.com/refresh.php?gt=be6b1ead17b7bd4e64d9b27e7051004a&challenge=1515db65f3cdf6a2a4f69105b75496bb&lang=zh-cn&type=click&callback=geetest_1591022927780\n",
      "geetest_1591022927780({\"status\": \"success\", \"data\": {\"num\": 0, \"image_servers\": [\"static.geetest.com/\", \"dn-staticdown.qbox.me/\"], \"pic\": \"/nerualpic/word_l1_zh_2020.03.16/abstract/7f414d99f0f82cc9ec395b2cb23444da.jpg\", \"spec\": \"1*1\", \"sign\": \"\", \"pic_type\": \"word\"}})\n",
      "https://api.geetest.com/refresh.php?gt=be6b1ead17b7bd4e64d9b27e7051004a&challenge=1515db65f3cdf6a2a4f69105b75496bb&lang=zh-cn&type=click&callback=geetest_1591022927977\n",
      "geetest_1591022927977({\"status\": \"success\", \"data\": {\"pic\": \"/nerualpic/word_l1_zh_2020.03.16/harley1/0493519781526ad0250ca3715e577b68.jpg\", \"spec\": \"1*1\", \"image_servers\": [\"static.geetest.com/\", \"dn-staticdown.qbox.me/\"], \"pic_type\": \"word\", \"num\": 0, \"sign\": \"\"}})\n",
      "https://api.geetest.com/refresh.php?gt=be6b1ead17b7bd4e64d9b27e7051004a&challenge=1515db65f3cdf6a2a4f69105b75496bb&lang=zh-cn&type=click&callback=geetest_1591022928173\n",
      "geetest_1591022928173({\"status\": \"success\", \"data\": {\"image_servers\": [\"static.geetest.com/\", \"dn-staticdown.qbox.me/\"], \"num\": 0, \"spec\": \"1*1\", \"pic_type\": \"word\", \"sign\": \"\", \"pic\": \"/nerualpic/word_l1_zh_2020.03.16/harley1/e6cdcb016a7e258d84494b5969d7703a.jpg\"}})\n",
      "0f7a8b57c103b109aa958b49b94cecd1\n",
      "已爬取 54 个验证码链接   完成 0.43%\n",
      "https://api.geetest.com/refresh.php?gt=be6b1ead17b7bd4e64d9b27e7051004a&challenge=0f7a8b57c103b109aa958b49b94cecd1&lang=zh-cn&type=click&callback=geetest_1591022931400\n",
      "geetest_1591022931400({\"status\": \"success\", \"data\": {\"sign\": \"\", \"spec\": \"1*1\", \"pic\": \"/nerualpic/word_l1_zh_2020.03.16/abstract/0b2fa569238eddb1399b5b291af2ce3a.jpg\", \"pic_type\": \"word\", \"image_servers\": [\"static.geetest.com/\", \"dn-staticdown.qbox.me/\"], \"num\": 0}})\n",
      "https://api.geetest.com/refresh.php?gt=be6b1ead17b7bd4e64d9b27e7051004a&challenge=0f7a8b57c103b109aa958b49b94cecd1&lang=zh-cn&type=click&callback=geetest_1591022931607\n",
      "geetest_1591022931607({\"status\": \"success\", \"data\": {\"spec\": \"1*1\", \"num\": 0, \"sign\": \"\", \"image_servers\": [\"static.geetest.com/\", \"dn-staticdown.qbox.me/\"], \"pic_type\": \"word\", \"pic\": \"/nerualpic/word_l1_zh_2020.03.16/cubism6/fe9597929600b9dd880fd6817f62df18.jpg\"}})\n",
      "https://api.geetest.com/refresh.php?gt=be6b1ead17b7bd4e64d9b27e7051004a&challenge=0f7a8b57c103b109aa958b49b94cecd1&lang=zh-cn&type=click&callback=geetest_1591022931798\n",
      "geetest_1591022931798({\"status\": \"success\", \"data\": {\"pic_type\": \"word\", \"pic\": \"/nerualpic/word_l1_zh_2020.03.16/harley1/efb05cc6a1944cedf62fd65d32d83870.jpg\", \"num\": 0, \"image_servers\": [\"static.geetest.com/\", \"dn-staticdown.qbox.me/\"], \"sign\": \"\", \"spec\": \"1*1\"}})\n",
      "https://api.geetest.com/refresh.php?gt=be6b1ead17b7bd4e64d9b27e7051004a&challenge=0f7a8b57c103b109aa958b49b94cecd1&lang=zh-cn&type=click&callback=geetest_1591022931998\n",
      "geetest_1591022931998({\"status\": \"success\", \"data\": {\"pic\": \"/nerualpic/word_l1_zh_2020.03.16/abstract/0d7600de3038f705284895bce6b33abc.jpg\", \"pic_type\": \"word\", \"image_servers\": [\"static.geetest.com/\", \"dn-staticdown.qbox.me/\"], \"num\": 0, \"spec\": \"1*1\", \"sign\": \"\"}})\n",
      "检测到重复链接，当前总计重复2张，本次任务重复率 3.45%\n",
      "https://api.geetest.com/refresh.php?gt=be6b1ead17b7bd4e64d9b27e7051004a&challenge=0f7a8b57c103b109aa958b49b94cecd1&lang=zh-cn&type=click&callback=geetest_1591022932190\n",
      "geetest_1591022932190({\"status\": \"success\", \"data\": {\"num\": 0, \"pic_type\": \"word\", \"pic\": \"/nerualpic/word_l1_zh_2020.03.16/abstract/08a819ee61c29887a078a28d88e67e1f.jpg\", \"image_servers\": [\"static.geetest.com/\", \"dn-staticdown.qbox.me/\"], \"sign\": \"\", \"spec\": \"1*1\"}})\n",
      "16d5d3f2b6e14da456e4fab8921887db\n",
      "已爬取 60 个验证码链接   完成 0.43%\n",
      "https://api.geetest.com/refresh.php?gt=be6b1ead17b7bd4e64d9b27e7051004a&challenge=16d5d3f2b6e14da456e4fab8921887db&lang=zh-cn&type=click&callback=geetest_1591022935448\n",
      "geetest_1591022935448({\"status\": \"success\", \"data\": {\"pic_type\": \"word\", \"image_servers\": [\"static.geetest.com/\", \"dn-staticdown.qbox.me/\"], \"num\": 0, \"pic\": \"/nerualpic/word_l1_zh_2020.03.16/girl2/a71ea6e42a95f2157421a349bd78a233.jpg\", \"spec\": \"1*1\", \"sign\": \"\"}})\n",
      "https://api.geetest.com/refresh.php?gt=be6b1ead17b7bd4e64d9b27e7051004a&challenge=16d5d3f2b6e14da456e4fab8921887db&lang=zh-cn&type=click&callback=geetest_1591022935648\n",
      "geetest_1591022935648({\"status\": \"success\", \"data\": {\"pic\": \"/nerualpic/word_l1_zh_2020.03.16/harley1/fdf27ec17d5ed2dd6de80b3d5ca9ec06.jpg\", \"image_servers\": [\"static.geetest.com/\", \"dn-staticdown.qbox.me/\"], \"spec\": \"1*1\", \"num\": 0, \"sign\": \"\", \"pic_type\": \"word\"}})\n",
      "https://api.geetest.com/refresh.php?gt=be6b1ead17b7bd4e64d9b27e7051004a&challenge=16d5d3f2b6e14da456e4fab8921887db&lang=zh-cn&type=click&callback=geetest_1591022935848\n",
      "geetest_1591022935848({\"status\": \"success\", \"data\": {\"image_servers\": [\"static.geetest.com/\", \"dn-staticdown.qbox.me/\"], \"num\": 0, \"sign\": \"\", \"pic\": \"/nerualpic/word_l1_zh_2020.03.16/harley1/cf57db8d8718f469b59d469713f806ff.jpg\", \"spec\": \"1*1\", \"pic_type\": \"word\"}})\n",
      "https://api.geetest.com/refresh.php?gt=be6b1ead17b7bd4e64d9b27e7051004a&challenge=16d5d3f2b6e14da456e4fab8921887db&lang=zh-cn&type=click&callback=geetest_1591022936043\n",
      "geetest_1591022936043({\"status\": \"success\", \"data\": {\"num\": 0, \"image_servers\": [\"static.geetest.com/\", \"dn-staticdown.qbox.me/\"], \"sign\": \"\", \"pic_type\": \"word\", \"spec\": \"1*1\", \"pic\": \"/nerualpic/word_l1_zh_2020.03.16/abstract/d34f7271c03fbb069d16d61a1c62304c.jpg\"}})\n",
      "https://api.geetest.com/refresh.php?gt=be6b1ead17b7bd4e64d9b27e7051004a&challenge=16d5d3f2b6e14da456e4fab8921887db&lang=zh-cn&type=click&callback=geetest_1591022936244\n",
      "geetest_1591022936244({\"status\": \"success\", \"data\": {\"num\": 0, \"pic_type\": \"word\", \"pic\": \"/nerualpic/word_l1_zh_2020.03.16/owl/a4c4ac1dda21d8c5eafea5125d23f42b.jpg\", \"image_servers\": [\"static.geetest.com/\", \"dn-staticdown.qbox.me/\"], \"sign\": \"\", \"spec\": \"1*1\"}})\n",
      "5ca5888b73e6ef2dc71e1701cc17c236\n",
      "已爬取 66 个验证码链接   完成 0.44%\n",
      "https://api.geetest.com/refresh.php?gt=be6b1ead17b7bd4e64d9b27e7051004a&challenge=5ca5888b73e6ef2dc71e1701cc17c236&lang=zh-cn&type=click&callback=geetest_1591022939499\n",
      "geetest_1591022939499({\"status\": \"success\", \"data\": {\"image_servers\": [\"static.geetest.com/\", \"dn-staticdown.qbox.me/\"], \"num\": 0, \"spec\": \"1*1\", \"pic_type\": \"word\", \"sign\": \"\", \"pic\": \"/nerualpic/word_l1_zh_2020.03.16/abstract/535a08c4f21c551e94d9cf409febe98c.jpg\"}})\n",
      "https://api.geetest.com/refresh.php?gt=be6b1ead17b7bd4e64d9b27e7051004a&challenge=5ca5888b73e6ef2dc71e1701cc17c236&lang=zh-cn&type=click&callback=geetest_1591022939698\n"
     ]
    },
    {
     "name": "stdout",
     "output_type": "stream",
     "text": [
      "geetest_1591022939698({\"status\": \"success\", \"data\": {\"pic\": \"/nerualpic/word_l1_zh_2020.03.16/abstract/458f44f4569d1b6e3f31635b73dc806d.jpg\", \"spec\": \"1*1\", \"image_servers\": [\"static.geetest.com/\", \"dn-staticdown.qbox.me/\"], \"pic_type\": \"word\", \"num\": 0, \"sign\": \"\"}})\n",
      "https://api.geetest.com/refresh.php?gt=be6b1ead17b7bd4e64d9b27e7051004a&challenge=5ca5888b73e6ef2dc71e1701cc17c236&lang=zh-cn&type=click&callback=geetest_1591022939882\n",
      "geetest_1591022939882({\"status\": \"success\", \"data\": {\"spec\": \"1*1\", \"num\": 0, \"sign\": \"\", \"image_servers\": [\"static.geetest.com/\", \"dn-staticdown.qbox.me/\"], \"pic_type\": \"word\", \"pic\": \"/nerualpic/word_l1_zh_2020.03.16/owl/b6431ab9c19a83f76f8f6ffdb3bfd3dc.jpg\"}})\n",
      "https://api.geetest.com/refresh.php?gt=be6b1ead17b7bd4e64d9b27e7051004a&challenge=5ca5888b73e6ef2dc71e1701cc17c236&lang=zh-cn&type=click&callback=geetest_1591022940074\n",
      "geetest_1591022940074({\"status\": \"success\", \"data\": {\"num\": 0, \"image_servers\": [\"static.geetest.com/\", \"dn-staticdown.qbox.me/\"], \"pic\": \"/nerualpic/word_l1_zh_2020.03.16/harley1/23892979ba6cea83ad55c98f2fa62cce.jpg\", \"spec\": \"1*1\", \"sign\": \"\", \"pic_type\": \"word\"}})\n",
      "https://api.geetest.com/refresh.php?gt=be6b1ead17b7bd4e64d9b27e7051004a&challenge=5ca5888b73e6ef2dc71e1701cc17c236&lang=zh-cn&type=click&callback=geetest_1591022940283\n",
      "geetest_1591022940283({\"status\": \"success\", \"data\": {\"pic\": \"/nerualpic/word_l1_zh_2020.03.16/owl/de4245afe6ce48d211d612831ffdddd1.jpg\", \"image_servers\": [\"static.geetest.com/\", \"dn-staticdown.qbox.me/\"], \"spec\": \"1*1\", \"num\": 0, \"sign\": \"\", \"pic_type\": \"word\"}})\n",
      "6737b70d498cd24983be44699073d1fc\n",
      "已爬取 72 个验证码链接   完成 0.44%\n",
      "https://api.geetest.com/refresh.php?gt=be6b1ead17b7bd4e64d9b27e7051004a&challenge=6737b70d498cd24983be44699073d1fc&lang=zh-cn&type=click&callback=geetest_1591022943525\n",
      "geetest_1591022943525({\"status\": \"success\", \"data\": {\"sign\": \"\", \"image_servers\": [\"static.geetest.com/\", \"dn-staticdown.qbox.me/\"], \"spec\": \"1*1\", \"num\": 0, \"pic_type\": \"word\", \"pic\": \"/nerualpic/word_l1_zh_2020.03.16/harley1/7837dd66143f0fa579ca003302556f8c.jpg\"}})\n",
      "https://api.geetest.com/refresh.php?gt=be6b1ead17b7bd4e64d9b27e7051004a&challenge=6737b70d498cd24983be44699073d1fc&lang=zh-cn&type=click&callback=geetest_1591022943723\n",
      "geetest_1591022943723({\"status\": \"success\", \"data\": {\"pic_type\": \"word\", \"spec\": \"1*1\", \"sign\": \"\", \"image_servers\": [\"static.geetest.com/\", \"dn-staticdown.qbox.me/\"], \"pic\": \"/nerualpic/word_l1_zh_2020.03.16/cubism6/7b89865350421c0a4563a12ae2212f25.jpg\", \"num\": 0}})\n",
      "https://api.geetest.com/refresh.php?gt=be6b1ead17b7bd4e64d9b27e7051004a&challenge=6737b70d498cd24983be44699073d1fc&lang=zh-cn&type=click&callback=geetest_1591022943932\n",
      "geetest_1591022943932({\"status\": \"success\", \"data\": {\"pic_type\": \"word\", \"spec\": \"1*1\", \"sign\": \"\", \"image_servers\": [\"static.geetest.com/\", \"dn-staticdown.qbox.me/\"], \"pic\": \"/nerualpic/word_l1_zh_2020.03.16/girl2/17fc2c719784346da02cd0bff3641243.jpg\", \"num\": 0}})\n",
      "https://api.geetest.com/refresh.php?gt=be6b1ead17b7bd4e64d9b27e7051004a&challenge=6737b70d498cd24983be44699073d1fc&lang=zh-cn&type=click&callback=geetest_1591022944133\n",
      "geetest_1591022944133({\"status\": \"success\", \"data\": {\"num\": 0, \"pic_type\": \"word\", \"pic\": \"/nerualpic/word_l1_zh_2020.03.16/owl/81b446d95b6aaca973fc6995c7f3d6a6.jpg\", \"image_servers\": [\"static.geetest.com/\", \"dn-staticdown.qbox.me/\"], \"sign\": \"\", \"spec\": \"1*1\"}})\n",
      "https://api.geetest.com/refresh.php?gt=be6b1ead17b7bd4e64d9b27e7051004a&challenge=6737b70d498cd24983be44699073d1fc&lang=zh-cn&type=click&callback=geetest_1591022944340\n",
      "geetest_1591022944340({\"status\": \"success\", \"data\": {\"pic_type\": \"word\", \"pic\": \"/nerualpic/word_l1_zh_2020.03.16/owl/01d062b05faaba6d004ed5f7d81dd9cb.jpg\", \"sign\": \"\", \"num\": 0, \"spec\": \"1*1\", \"image_servers\": [\"static.geetest.com/\", \"dn-staticdown.qbox.me/\"]}})\n",
      "5c4eb19bb162ab020cb09c9e3cd2b456\n",
      "已爬取 78 个验证码链接   完成 0.45%\n",
      "https://api.geetest.com/refresh.php?gt=be6b1ead17b7bd4e64d9b27e7051004a&challenge=5c4eb19bb162ab020cb09c9e3cd2b456&lang=zh-cn&type=click&callback=geetest_1591022947587\n",
      "geetest_1591022947587({\"status\": \"success\", \"data\": {\"sign\": \"\", \"image_servers\": [\"static.geetest.com/\", \"dn-staticdown.qbox.me/\"], \"spec\": \"1*1\", \"num\": 0, \"pic_type\": \"word\", \"pic\": \"/nerualpic/word_l1_zh_2020.03.16/abstract/92daead2b47e294cba5c4b75d731aa56.jpg\"}})\n",
      "https://api.geetest.com/refresh.php?gt=be6b1ead17b7bd4e64d9b27e7051004a&challenge=5c4eb19bb162ab020cb09c9e3cd2b456&lang=zh-cn&type=click&callback=geetest_1591022947797\n",
      "geetest_1591022947797({\"status\": \"success\", \"data\": {\"spec\": \"1*1\", \"pic\": \"/nerualpic/word_l1_zh_2020.03.16/cubism6/5cdea9b63cc170f12cc198cc7f81abda.jpg\", \"image_servers\": [\"static.geetest.com/\", \"dn-staticdown.qbox.me/\"], \"sign\": \"\", \"num\": 0, \"pic_type\": \"word\"}})\n",
      "https://api.geetest.com/refresh.php?gt=be6b1ead17b7bd4e64d9b27e7051004a&challenge=5c4eb19bb162ab020cb09c9e3cd2b456&lang=zh-cn&type=click&callback=geetest_1591022947994\n",
      "geetest_1591022947994({\"status\": \"success\", \"data\": {\"spec\": \"1*1\", \"num\": 0, \"sign\": \"\", \"image_servers\": [\"static.geetest.com/\", \"dn-staticdown.qbox.me/\"], \"pic_type\": \"word\", \"pic\": \"/nerualpic/word_l1_zh_2020.03.16/harley1/8d8078a27fcb1b22ebf76ee598dd92a5.jpg\"}})\n",
      "https://api.geetest.com/refresh.php?gt=be6b1ead17b7bd4e64d9b27e7051004a&challenge=5c4eb19bb162ab020cb09c9e3cd2b456&lang=zh-cn&type=click&callback=geetest_1591022948194\n",
      "geetest_1591022948194({\"status\": \"success\", \"data\": {\"image_servers\": [\"static.geetest.com/\", \"dn-staticdown.qbox.me/\"], \"num\": 0, \"pic\": \"/nerualpic/word_l1_zh_2020.03.16/cubism6/9621eb7ca7034baf5f3273a194e56cce.jpg\", \"spec\": \"1*1\", \"pic_type\": \"word\", \"sign\": \"\"}})\n",
      "https://api.geetest.com/refresh.php?gt=be6b1ead17b7bd4e64d9b27e7051004a&challenge=5c4eb19bb162ab020cb09c9e3cd2b456&lang=zh-cn&type=click&callback=geetest_1591022948413\n",
      "geetest_1591022948413({\"status\": \"success\", \"data\": {\"spec\": \"1*1\", \"num\": 0, \"sign\": \"\", \"image_servers\": [\"static.geetest.com/\", \"dn-staticdown.qbox.me/\"], \"pic_type\": \"word\", \"pic\": \"/nerualpic/word_l1_zh_2020.03.16/owl/15ed628591e757a45c4ab801e3037feb.jpg\"}})\n",
      "5b1d55eee01bd342c001b9d5a5a50108\n",
      "已爬取 84 个验证码链接   完成 0.46%\n",
      "https://api.geetest.com/refresh.php?gt=be6b1ead17b7bd4e64d9b27e7051004a&challenge=5b1d55eee01bd342c001b9d5a5a50108&lang=zh-cn&type=click&callback=geetest_1591022951657\n",
      "geetest_1591022951657({\"status\": \"success\", \"data\": {\"pic_type\": \"word\", \"num\": 0, \"sign\": \"\", \"spec\": \"1*1\", \"image_servers\": [\"static.geetest.com/\", \"dn-staticdown.qbox.me/\"], \"pic\": \"/nerualpic/word_l1_zh_2020.03.16/owl/4a9d09defe50387d81486f08f39ef549.jpg\"}})\n",
      "https://api.geetest.com/refresh.php?gt=be6b1ead17b7bd4e64d9b27e7051004a&challenge=5b1d55eee01bd342c001b9d5a5a50108&lang=zh-cn&type=click&callback=geetest_1591022951858\n",
      "geetest_1591022951858({\"status\": \"success\", \"data\": {\"image_servers\": [\"static.geetest.com/\", \"dn-staticdown.qbox.me/\"], \"num\": 0, \"spec\": \"1*1\", \"pic_type\": \"word\", \"sign\": \"\", \"pic\": \"/nerualpic/word_l1_zh_2020.03.16/abstract/a932750d96ba9a3b1dadc24c7ac278f0.jpg\"}})\n",
      "https://api.geetest.com/refresh.php?gt=be6b1ead17b7bd4e64d9b27e7051004a&challenge=5b1d55eee01bd342c001b9d5a5a50108&lang=zh-cn&type=click&callback=geetest_1591022952062\n",
      "geetest_1591022952062({\"status\": \"success\", \"data\": {\"pic_type\": \"word\", \"image_servers\": [\"static.geetest.com/\", \"dn-staticdown.qbox.me/\"], \"num\": 0, \"pic\": \"/nerualpic/word_l1_zh_2020.03.16/cubism6/333b4874310600d0cc9c98b613caf725.jpg\", \"spec\": \"1*1\", \"sign\": \"\"}})\n",
      "https://api.geetest.com/refresh.php?gt=be6b1ead17b7bd4e64d9b27e7051004a&challenge=5b1d55eee01bd342c001b9d5a5a50108&lang=zh-cn&type=click&callback=geetest_1591022952247\n",
      "geetest_1591022952247({\"status\": \"success\", \"data\": {\"image_servers\": [\"static.geetest.com/\", \"dn-staticdown.qbox.me/\"], \"num\": 0, \"spec\": \"1*1\", \"pic_type\": \"word\", \"sign\": \"\", \"pic\": \"/nerualpic/word_l1_zh_2020.03.16/abstract/3d1575581c112ddb3ada66f84e8226df.jpg\"}})\n",
      "https://api.geetest.com/refresh.php?gt=be6b1ead17b7bd4e64d9b27e7051004a&challenge=5b1d55eee01bd342c001b9d5a5a50108&lang=zh-cn&type=click&callback=geetest_1591022952452\n",
      "geetest_1591022952452({\"status\": \"success\", \"data\": {\"pic_type\": \"word\", \"spec\": \"1*1\", \"sign\": \"\", \"image_servers\": [\"static.geetest.com/\", \"dn-staticdown.qbox.me/\"], \"pic\": \"/nerualpic/word_l1_zh_2020.03.16/cubism6/d6b995c20d3b8c3fbdd94a8d20651c68.jpg\", \"num\": 0}})\n"
     ]
    },
    {
     "name": "stdout",
     "output_type": "stream",
     "text": [
      "b16c35142d7e6bebacf75efa030f2e68\n",
      "已爬取 90 个验证码链接   完成 0.46%\n",
      "https://api.geetest.com/refresh.php?gt=be6b1ead17b7bd4e64d9b27e7051004a&challenge=b16c35142d7e6bebacf75efa030f2e68&lang=zh-cn&type=click&callback=geetest_1591022955709\n",
      "geetest_1591022955709({\"status\": \"success\", \"data\": {\"sign\": \"\", \"image_servers\": [\"static.geetest.com/\", \"dn-staticdown.qbox.me/\"], \"spec\": \"1*1\", \"num\": 0, \"pic_type\": \"word\", \"pic\": \"/nerualpic/word_l1_zh_2020.03.16/owl/f30913ad41ee9e6c9e3ae939ae5e077a.jpg\"}})\n",
      "https://api.geetest.com/refresh.php?gt=be6b1ead17b7bd4e64d9b27e7051004a&challenge=b16c35142d7e6bebacf75efa030f2e68&lang=zh-cn&type=click&callback=geetest_1591022955917\n",
      "geetest_1591022955917({\"status\": \"success\", \"data\": {\"spec\": \"1*1\", \"pic\": \"/nerualpic/word_l1_zh_2020.03.16/cubism6/08c94733896aac36fda4857287f7e738.jpg\", \"sign\": \"\", \"num\": 0, \"image_servers\": [\"static.geetest.com/\", \"dn-staticdown.qbox.me/\"], \"pic_type\": \"word\"}})\n",
      "https://api.geetest.com/refresh.php?gt=be6b1ead17b7bd4e64d9b27e7051004a&challenge=b16c35142d7e6bebacf75efa030f2e68&lang=zh-cn&type=click&callback=geetest_1591022956108\n",
      "geetest_1591022956108({\"status\": \"success\", \"data\": {\"image_servers\": [\"static.geetest.com/\", \"dn-staticdown.qbox.me/\"], \"num\": 0, \"spec\": \"1*1\", \"pic_type\": \"word\", \"sign\": \"\", \"pic\": \"/nerualpic/word_l1_zh_2020.03.16/owl/2050dce0b84a1f1ef734a124f3144d23.jpg\"}})\n",
      "https://api.geetest.com/refresh.php?gt=be6b1ead17b7bd4e64d9b27e7051004a&challenge=b16c35142d7e6bebacf75efa030f2e68&lang=zh-cn&type=click&callback=geetest_1591022956298\n",
      "geetest_1591022956298({\"status\": \"success\", \"data\": {\"num\": 0, \"pic\": \"/nerualpic/word_l1_zh_2020.03.16/cubism6/0699649a86b60c87663dfdbda6dd63e2.jpg\", \"image_servers\": [\"static.geetest.com/\", \"dn-staticdown.qbox.me/\"], \"sign\": \"\", \"spec\": \"1*1\", \"pic_type\": \"word\"}})\n",
      "https://api.geetest.com/refresh.php?gt=be6b1ead17b7bd4e64d9b27e7051004a&challenge=b16c35142d7e6bebacf75efa030f2e68&lang=zh-cn&type=click&callback=geetest_1591022956495\n",
      "geetest_1591022956495({\"status\": \"success\", \"data\": {\"pic_type\": \"word\", \"spec\": \"1*1\", \"pic\": \"/nerualpic/word_l1_zh_2020.03.16/abstract/546fb844b95a051b7c8d35864a89cc49.jpg\", \"image_servers\": [\"static.geetest.com/\", \"dn-staticdown.qbox.me/\"], \"num\": 0, \"sign\": \"\"}})\n",
      "54cf348ac93b716a2c94f8ee2b93f711\n",
      "已爬取 96 个验证码链接   完成 0.47%\n",
      "https://api.geetest.com/refresh.php?gt=be6b1ead17b7bd4e64d9b27e7051004a&challenge=54cf348ac93b716a2c94f8ee2b93f711&lang=zh-cn&type=click&callback=geetest_1591022959811\n",
      "geetest_1591022959811({\"status\": \"success\", \"data\": {\"pic_type\": \"word\", \"num\": 0, \"sign\": \"\", \"spec\": \"1*1\", \"image_servers\": [\"static.geetest.com/\", \"dn-staticdown.qbox.me/\"], \"pic\": \"/nerualpic/word_l1_zh_2020.03.16/harley1/bdbbcb8384f385aa0ea4024278ba4393.jpg\"}})\n",
      "https://api.geetest.com/refresh.php?gt=be6b1ead17b7bd4e64d9b27e7051004a&challenge=54cf348ac93b716a2c94f8ee2b93f711&lang=zh-cn&type=click&callback=geetest_1591022960071\n",
      "geetest_1591022960071({\"status\": \"success\", \"data\": {\"num\": 0, \"pic\": \"/nerualpic/word_l1_zh_2020.03.16/harley1/26661dc1fcbbca55104f5e54cbccccc1.jpg\", \"image_servers\": [\"static.geetest.com/\", \"dn-staticdown.qbox.me/\"], \"sign\": \"\", \"spec\": \"1*1\", \"pic_type\": \"word\"}})\n",
      "https://api.geetest.com/refresh.php?gt=be6b1ead17b7bd4e64d9b27e7051004a&challenge=54cf348ac93b716a2c94f8ee2b93f711&lang=zh-cn&type=click&callback=geetest_1591022960270\n",
      "geetest_1591022960270({\"status\": \"success\", \"data\": {\"pic\": \"/nerualpic/word_l1_zh_2020.03.16/girl2/3a1adeb59d4b5ad8ebd067b6a39f70e7.jpg\", \"image_servers\": [\"static.geetest.com/\", \"dn-staticdown.qbox.me/\"], \"pic_type\": \"word\", \"spec\": \"1*1\", \"sign\": \"\", \"num\": 0}})\n",
      "https://api.geetest.com/refresh.php?gt=be6b1ead17b7bd4e64d9b27e7051004a&challenge=54cf348ac93b716a2c94f8ee2b93f711&lang=zh-cn&type=click&callback=geetest_1591022960469\n",
      "geetest_1591022960469({\"status\": \"success\", \"data\": {\"image_servers\": [\"static.geetest.com/\", \"dn-staticdown.qbox.me/\"], \"num\": 0, \"pic\": \"/nerualpic/word_l1_zh_2020.03.16/owl/ed33a19ec4aff8cc140fc3ef8e53e14f.jpg\", \"spec\": \"1*1\", \"pic_type\": \"word\", \"sign\": \"\"}})\n",
      "https://api.geetest.com/refresh.php?gt=be6b1ead17b7bd4e64d9b27e7051004a&challenge=54cf348ac93b716a2c94f8ee2b93f711&lang=zh-cn&type=click&callback=geetest_1591022960663\n",
      "geetest_1591022960663({\"status\": \"success\", \"data\": {\"image_servers\": [\"static.geetest.com/\", \"dn-staticdown.qbox.me/\"], \"num\": 0, \"pic\": \"/nerualpic/word_l1_zh_2020.03.16/owl/1ae2a49d3467c553eb7a23e3206a6c69.jpg\", \"spec\": \"1*1\", \"pic_type\": \"word\", \"sign\": \"\"}})\n",
      "654aac554a740622bad3d1e889fc7cb0\n",
      "已爬取 102 个验证码链接   完成 0.47%\n",
      "https://api.geetest.com/refresh.php?gt=be6b1ead17b7bd4e64d9b27e7051004a&challenge=654aac554a740622bad3d1e889fc7cb0&lang=zh-cn&type=click&callback=geetest_1591022963909\n",
      "geetest_1591022963909({\"status\": \"success\", \"data\": {\"pic_type\": \"word\", \"image_servers\": [\"static.geetest.com/\", \"dn-staticdown.qbox.me/\"], \"num\": 0, \"pic\": \"/nerualpic/word_l1_zh_2020.03.16/cubism6/3fe2a103b995af7382b087e92a894e19.jpg\", \"spec\": \"1*1\", \"sign\": \"\"}})\n",
      "https://api.geetest.com/refresh.php?gt=be6b1ead17b7bd4e64d9b27e7051004a&challenge=654aac554a740622bad3d1e889fc7cb0&lang=zh-cn&type=click&callback=geetest_1591022964100\n",
      "geetest_1591022964100({\"status\": \"success\", \"data\": {\"pic_type\": \"word\", \"spec\": \"1*1\", \"pic\": \"/nerualpic/word_l1_zh_2020.03.16/owl/805a098c036ba942ccbaf5eb3471132f.jpg\", \"image_servers\": [\"static.geetest.com/\", \"dn-staticdown.qbox.me/\"], \"num\": 0, \"sign\": \"\"}})\n",
      "https://api.geetest.com/refresh.php?gt=be6b1ead17b7bd4e64d9b27e7051004a&challenge=654aac554a740622bad3d1e889fc7cb0&lang=zh-cn&type=click&callback=geetest_1591022964314\n",
      "geetest_1591022964314({\"status\": \"success\", \"data\": {\"pic\": \"/nerualpic/word_l1_zh_2020.03.16/girl2/1928d53ad619ba3462723f72de5aef29.jpg\", \"image_servers\": [\"static.geetest.com/\", \"dn-staticdown.qbox.me/\"], \"pic_type\": \"word\", \"spec\": \"1*1\", \"sign\": \"\", \"num\": 0}})\n",
      "https://api.geetest.com/refresh.php?gt=be6b1ead17b7bd4e64d9b27e7051004a&challenge=654aac554a740622bad3d1e889fc7cb0&lang=zh-cn&type=click&callback=geetest_1591022964524\n",
      "geetest_1591022964524({\"status\": \"success\", \"data\": {\"image_servers\": [\"static.geetest.com/\", \"dn-staticdown.qbox.me/\"], \"num\": 0, \"sign\": \"\", \"pic\": \"/nerualpic/word_l1_zh_2020.03.16/harley1/5252aa7f56f7ed927f99f3c26defa72d.jpg\", \"spec\": \"1*1\", \"pic_type\": \"word\"}})\n",
      "https://api.geetest.com/refresh.php?gt=be6b1ead17b7bd4e64d9b27e7051004a&challenge=654aac554a740622bad3d1e889fc7cb0&lang=zh-cn&type=click&callback=geetest_1591022964773\n",
      "geetest_1591022964773({\"status\": \"success\", \"data\": {\"pic_type\": \"word\", \"sign\": \"\", \"spec\": \"1*1\", \"image_servers\": [\"static.geetest.com/\", \"dn-staticdown.qbox.me/\"], \"pic\": \"/nerualpic/word_l1_zh_2020.03.16/owl/ed8b5b2a43183c61b8a085c5d732d444.jpg\", \"num\": 0}})\n",
      "57f80d81f3c80068894a30117c38d63b\n",
      "已爬取 108 个验证码链接   完成 0.48%\n",
      "https://api.geetest.com/refresh.php?gt=be6b1ead17b7bd4e64d9b27e7051004a&challenge=57f80d81f3c80068894a30117c38d63b&lang=zh-cn&type=click&callback=geetest_1591022968008\n",
      "geetest_1591022968008({\"status\": \"success\", \"data\": {\"spec\": \"1*1\", \"num\": 0, \"sign\": \"\", \"image_servers\": [\"static.geetest.com/\", \"dn-staticdown.qbox.me/\"], \"pic_type\": \"word\", \"pic\": \"/nerualpic/word_l1_zh_2020.03.16/cubism6/f2d08b9ca3966dea12e62d5fc54d40f6.jpg\"}})\n",
      "https://api.geetest.com/refresh.php?gt=be6b1ead17b7bd4e64d9b27e7051004a&challenge=57f80d81f3c80068894a30117c38d63b&lang=zh-cn&type=click&callback=geetest_1591022968205\n",
      "geetest_1591022968205({\"status\": \"success\", \"data\": {\"spec\": \"1*1\", \"num\": 0, \"sign\": \"\", \"image_servers\": [\"static.geetest.com/\", \"dn-staticdown.qbox.me/\"], \"pic_type\": \"word\", \"pic\": \"/nerualpic/word_l1_zh_2020.03.16/cubism6/214db76ca011522aa5f7c72adf5f38ab.jpg\"}})\n",
      "https://api.geetest.com/refresh.php?gt=be6b1ead17b7bd4e64d9b27e7051004a&challenge=57f80d81f3c80068894a30117c38d63b&lang=zh-cn&type=click&callback=geetest_1591022968401\n",
      "geetest_1591022968401({\"status\": \"success\", \"data\": {\"pic_type\": \"word\", \"image_servers\": [\"static.geetest.com/\", \"dn-staticdown.qbox.me/\"], \"pic\": \"/nerualpic/word_l1_zh_2020.03.16/girl2/410251e986999c8e85d71654c257774b.jpg\", \"spec\": \"1*1\", \"num\": 0, \"sign\": \"\"}})\n",
      "https://api.geetest.com/refresh.php?gt=be6b1ead17b7bd4e64d9b27e7051004a&challenge=57f80d81f3c80068894a30117c38d63b&lang=zh-cn&type=click&callback=geetest_1591022968596\n"
     ]
    },
    {
     "name": "stdout",
     "output_type": "stream",
     "text": [
      "geetest_1591022968596({\"status\": \"success\", \"data\": {\"sign\": \"\", \"image_servers\": [\"static.geetest.com/\", \"dn-staticdown.qbox.me/\"], \"spec\": \"1*1\", \"num\": 0, \"pic_type\": \"word\", \"pic\": \"/nerualpic/word_l1_zh_2020.03.16/harley1/d0915bf0ac9df6894bef6012db738c1c.jpg\"}})\n",
      "https://api.geetest.com/refresh.php?gt=be6b1ead17b7bd4e64d9b27e7051004a&challenge=57f80d81f3c80068894a30117c38d63b&lang=zh-cn&type=click&callback=geetest_1591022968797\n",
      "geetest_1591022968797({\"status\": \"success\", \"data\": {\"num\": 0, \"image_servers\": [\"static.geetest.com/\", \"dn-staticdown.qbox.me/\"], \"pic\": \"/nerualpic/word_l1_zh_2020.03.16/cubism6/4d784cbcc974c95e272285b6943ae5d1.jpg\", \"spec\": \"1*1\", \"sign\": \"\", \"pic_type\": \"word\"}})\n"
     ]
    },
    {
     "ename": "KeyboardInterrupt",
     "evalue": "",
     "output_type": "error",
     "traceback": [
      "\u001b[1;31m---------------------------------------------------------------------------\u001b[0m",
      "\u001b[1;31mKeyboardInterrupt\u001b[0m                         Traceback (most recent call last)",
      "\u001b[1;32m<ipython-input-75-cc7978ccb8f1>\u001b[0m in \u001b[0;36m<module>\u001b[1;34m\u001b[0m\n\u001b[0;32m    182\u001b[0m \u001b[0mfd\u001b[0m \u001b[1;33m=\u001b[0m \u001b[0mopen\u001b[0m\u001b[1;33m(\u001b[0m\u001b[1;34m\"image_url.txt\"\u001b[0m\u001b[1;33m,\u001b[0m \u001b[1;34m'a'\u001b[0m\u001b[1;33m)\u001b[0m\u001b[1;33m\u001b[0m\u001b[1;33m\u001b[0m\u001b[0m\n\u001b[0;32m    183\u001b[0m \u001b[1;31m# 开始运行爬虫]\u001b[0m\u001b[1;33m\u001b[0m\u001b[1;33m\u001b[0m\u001b[1;33m\u001b[0m\u001b[0m\n\u001b[1;32m--> 184\u001b[1;33m \u001b[0mrun_scrape\u001b[0m\u001b[1;33m(\u001b[0m\u001b[1;33m)\u001b[0m\u001b[1;33m\u001b[0m\u001b[1;33m\u001b[0m\u001b[0m\n\u001b[0m\u001b[0;32m    185\u001b[0m \u001b[1;31m# flag = 0\u001b[0m\u001b[1;33m\u001b[0m\u001b[1;33m\u001b[0m\u001b[1;33m\u001b[0m\u001b[0m\n\u001b[0;32m    186\u001b[0m \u001b[1;31m# while True:\u001b[0m\u001b[1;33m\u001b[0m\u001b[1;33m\u001b[0m\u001b[1;33m\u001b[0m\u001b[0m\n",
      "\u001b[1;32m<ipython-input-75-cc7978ccb8f1>\u001b[0m in \u001b[0;36mrun_scrape\u001b[1;34m()\u001b[0m\n\u001b[0;32m    132\u001b[0m         \u001b[1;32mif\u001b[0m \u001b[0mcnt\u001b[0m \u001b[1;33m%\u001b[0m \u001b[1;36m5\u001b[0m \u001b[1;33m==\u001b[0m \u001b[1;36m0\u001b[0m \u001b[1;32mand\u001b[0m \u001b[0mcnt\u001b[0m \u001b[1;33m!=\u001b[0m \u001b[1;36m0\u001b[0m\u001b[1;33m:\u001b[0m\u001b[1;33m\u001b[0m\u001b[1;33m\u001b[0m\u001b[0m\n\u001b[0;32m    133\u001b[0m             \u001b[0mcnt_c\u001b[0m \u001b[1;33m+=\u001b[0m \u001b[1;36m1\u001b[0m\u001b[1;33m\u001b[0m\u001b[1;33m\u001b[0m\u001b[0m\n\u001b[1;32m--> 134\u001b[1;33m             \u001b[0mt_url\u001b[0m\u001b[1;33m,\u001b[0m\u001b[0mchallenge\u001b[0m\u001b[1;33m=\u001b[0m \u001b[0mretry_clikc\u001b[0m\u001b[1;33m(\u001b[0m\u001b[0mweb\u001b[0m\u001b[1;33m)\u001b[0m  \u001b[1;31m# 点击重试\u001b[0m\u001b[1;33m\u001b[0m\u001b[1;33m\u001b[0m\u001b[0m\n\u001b[0m\u001b[0;32m    135\u001b[0m             \u001b[1;31m# 如果这个url已经在里面，就跳过\u001b[0m\u001b[1;33m\u001b[0m\u001b[1;33m\u001b[0m\u001b[1;33m\u001b[0m\u001b[0m\n\u001b[0;32m    136\u001b[0m             \u001b[0mprint\u001b[0m\u001b[1;33m(\u001b[0m\u001b[0mchallenge\u001b[0m\u001b[1;33m)\u001b[0m\u001b[1;33m\u001b[0m\u001b[1;33m\u001b[0m\u001b[0m\n",
      "\u001b[1;32m<ipython-input-75-cc7978ccb8f1>\u001b[0m in \u001b[0;36mretry_clikc\u001b[1;34m(web)\u001b[0m\n\u001b[0;32m     40\u001b[0m     web.execute_script(\n\u001b[0;32m     41\u001b[0m         \"document.getElementsByClassName('geetest_refresh')[0].click()\")\n\u001b[1;32m---> 42\u001b[1;33m     \u001b[0mtime\u001b[0m\u001b[1;33m.\u001b[0m\u001b[0msleep\u001b[0m\u001b[1;33m(\u001b[0m\u001b[1;36m2\u001b[0m\u001b[1;33m)\u001b[0m\u001b[1;33m\u001b[0m\u001b[1;33m\u001b[0m\u001b[0m\n\u001b[0m\u001b[0;32m     43\u001b[0m     \u001b[1;32mreturn\u001b[0m \u001b[0mretry_clikc_child\u001b[0m\u001b[1;33m(\u001b[0m\u001b[0mweb\u001b[0m\u001b[1;33m)\u001b[0m\u001b[1;33m\u001b[0m\u001b[1;33m\u001b[0m\u001b[0m\n\u001b[0;32m     44\u001b[0m \u001b[1;33m\u001b[0m\u001b[0m\n",
      "\u001b[1;31mKeyboardInterrupt\u001b[0m: "
     ]
    }
   ],
   "source": [
    "from selenium.webdriver import Chrome\n",
    "import time\n",
    "import requests\n",
    "import threading\n",
    "from lxml.etree import HTML\n",
    "import re\n",
    "from retrying import retry\n",
    "\n",
    "from wget import download\n",
    "\n",
    "\n",
    "# 传入参数为selenium的浏览器（状态为第一次进入页面），需要触发一次显示验证码并返回对应的图片地址\n",
    "\n",
    "\n",
    "def first_click(web):\n",
    "    logon = web.find_element_by_xpath('//*[@class=\"sm-button submit sc-1n784rm-0 bcuuIb\"]')\n",
    "    logon.click()\n",
    "    time.sleep(3)\n",
    "    ele = web.find_elements_by_xpath('//*[@class=\"geetest_item_img\"]')\n",
    "    for i in ele:\n",
    "        pic_url = i.get_attribute('src').split('?')[0]\n",
    "    return pic_url\n",
    "\n",
    "\n",
    "@retry(stop_max_attempt_number=10, wait_random_min=500, wait_random_max=1000)\n",
    "def retry_clikc_child(web):\n",
    "    web.execute_script(\"document.getElementsByClassName('geetest_panel_error_content')[0].click()\")\n",
    "    time.sleep(1)\n",
    "    ele = web.find_elements_by_xpath('//*[@class=\"geetest_item_img\"]')\n",
    "    for i in ele:\n",
    "        pic_url = i.get_attribute('src').split('?')[0]\n",
    "        challenge = i.get_attribute('src').split('=')[-1]\n",
    "    return pic_url,challenge\n",
    "\n",
    "\n",
    "# 传入参数为selenium的浏览器（状态为触发5次之后的重试），需要触发一次显示验证码并返回对应的图片地址\n",
    "\n",
    "\n",
    "def retry_clikc(web):\n",
    "    web.execute_script(\"document.getElementsByClassName('geetest_refresh')[0].click()\")\n",
    "    time.sleep(2)\n",
    "    return retry_clikc_child(web)\n",
    "\n",
    "\n",
    "# 传入参数为selenium的浏览器，需要在页面中找到gt并返回\n",
    "\n",
    "\n",
    "def get_gt(web):\n",
    "    ele = web.find_element_by_xpath(\"//*[@charset='UTF-8'][2]\")\n",
    "    gt = ele.get_attribute('src').split('=')[1].split('&')[0]\n",
    "    return gt\n",
    "\n",
    "\n",
    "# 传入参数为selenium的浏览器（状态为显示第一张验证码完后），需要在页面中找到challenge并返回\n",
    "\n",
    "\n",
    "def get_challenge(web):\n",
    "    selector = HTML(web.page_source)\n",
    "    data = selector.xpath('/html/head/script[7]/@src')\n",
    "    challenge = re.findall('&challenge=(.*?)&',str(data),re.S)\n",
    "    return challenge\n",
    "\n",
    "\n",
    "class myThread(threading.Thread):\n",
    "    def __init__(self, threadID):\n",
    "        threading.Thread.__init__(self)\n",
    "        self.threadID = threadID\n",
    "\n",
    "    def run(self):\n",
    "        print(\"开始线程：\" + self.name)\n",
    "        download_image(self.threadID)\n",
    "        print(\"退出线程：\" + self.name)\n",
    "\n",
    "\n",
    "def download_image(threadID):\n",
    "    while not finish:\n",
    "        if (len(picurlQ) == 0):\n",
    "            time.sleep(1)\n",
    "            continue\n",
    "        cur = picurlQ.pop()\n",
    "        # print(\"\\nthread \" + str(threadID) + \" 开始下载 \" + cur[0].split('/')[-1])\n",
    "        img_path = 'imgs/{}'.format(cur.split('/')[-1])\n",
    "        try:\n",
    "            download(cur, img_path)\n",
    "        except Exception as e:\n",
    "            print(\"\\n\" + str(e))\n",
    "            error_img_list.append([cur, str(e)])\n",
    "\n",
    "\n",
    "error_img_list = []  # 错误列表\n",
    "# picurlQ = []  # 下载图片任务队列\n",
    "picSet = set()  # 记录所有下载过的图片的集合\n",
    "ar_num = 0\n",
    "\n",
    "\n",
    "# finish = False  # 完成标示\n",
    "\n",
    "\n",
    "def run_scrape():\n",
    "    task_num = 100000  # 爬多少个验证码停止（包括重复的）\n",
    "    cnt = 0  # 用于记录一部分总数\n",
    "    cnt_c = 0  # 用于记录重试次数\n",
    "    du_cnt = 0  # 用于记录重复的次数\n",
    "    # thread_num = 5  # 下载的线程数\n",
    "    # down_thread = []  # 线程list\n",
    "    try:\n",
    "        global web\n",
    "        web = Chrome(executable_path='E:\\Google\\Chrome\\Application\\chromedriver.exe')  # 使用Chrome打开，WebDrive放置在bin目录下因此不需要指定路径\n",
    "        web.get(\"https://shimo.im/login?from=home\")\n",
    "        user = web.find_element_by_xpath('//*[@name=\"mobileOrEmail\"]')\n",
    "        user.send_keys('63888590@qq.com')\n",
    "        password = web.find_element_by_xpath('//*[@name=\"password\"]')\n",
    "        password.send_keys('123456789')\n",
    "        t_url = first_click(web)  # 初始页面第一次点击\n",
    "        # picurlQ.append(t_url)\n",
    "        picSet.add(t_url)\n",
    "        fd.write(t_url + '\\n')\n",
    "        gt = get_gt(web)  # 获取gt值（从头到位不会变）\n",
    "        with open(\"gt.txt\", 'w') as td:\n",
    "            td.write(gt)\n",
    "        challenge = get_challenge(web)[0]  # 获取第一个challenge值\n",
    "\n",
    "        # 开启用于下载图片的线程\n",
    "        # for i in range(thread_num):\n",
    "        #     down_thread.append(myThread(i))\n",
    "        #     down_thread[i].start()\n",
    "\n",
    "        # 主爬取循环\n",
    "        while cnt + cnt_c + ar_num < task_num:\n",
    "            # 每5次需要点击重试\n",
    "            if cnt % 5 == 0 and cnt != 0:\n",
    "                cnt_c += 1\n",
    "                t_url,challenge= retry_clikc(web)  # 点击重试\n",
    "                # 如果这个url已经在里面，就跳过\n",
    "                if t_url in picSet:\n",
    "                    du_cnt += 1\n",
    "                    print(\"检测到重复链接，当前总计重复{}张，本次任务重复率 {:.2f}%\".format(\n",
    "                        du_cnt, (du_cnt / (cnt + cnt_c)) * 100))\n",
    "\n",
    "                else:\n",
    "                    picSet.add(t_url)\n",
    "                    fd.write(t_url + '\\n')\n",
    "                    # picurlQ.append(t_url)\n",
    "                    print(\"已爬取 {} 个验证码链接   完成 {:.2f}%\".format(cnt + cnt_c, ((cnt + cnt_c + ar_num) / task_num) * 100))\n",
    "            url = \"https://api.geetest.com/refresh.php?gt={}&challenge={}&lang=zh-cn&type=click&callback=geetest_{}\".format(\n",
    "                gt, challenge, int(round(time.time() * 1000)))\n",
    "            data = requests.get(url).text\n",
    "            t_url = \"https://static.geetest.com\" + re.search(r\"pic\\\": \\\"(.+?)\\\"\", data).group(1)\n",
    "            cnt += 1\n",
    "            if t_url in picSet:\n",
    "                du_cnt += 1\n",
    "                print(\"检测到重复链接，当前总计重复{}张，本次任务重复率 {:.2f}%\".format(\n",
    "                    du_cnt, (du_cnt / (cnt + cnt_c)) * 100))\n",
    "                continue\n",
    "            picSet.add(t_url)\n",
    "            fd.write(t_url + '\\n')\n",
    "    except Exception as e:\n",
    "        web.close()\n",
    "        run_scrape()\n",
    "        # picurlQ.append(t_url)\n",
    "        # finish = True\n",
    "        # for i in range(thread_num):\n",
    "        #     down_thread[i].join()\n",
    "    web.close()\n",
    "\n",
    "\n",
    "# 打开用于记录URL的文件\n",
    "fd = open(\"image_url.txt\", 'r')\n",
    "\n",
    "# 把所有文件中已经读到的添加到set中\n",
    "line = fd.readline()\n",
    "while line:\n",
    "    picSet.add(line)\n",
    "    line = fd.readline()\n",
    "ar_num = len(picSet)\n",
    "fd.close()\n",
    "\n",
    "fd = open(\"image_url.txt\", 'a')\n",
    "# 开始运行爬虫]\n",
    "run_scrape()\n",
    "# flag = 0\n",
    "# while True:\n",
    "#     try:\n",
    "#         if flag==1:\n",
    "#             flag=0\n",
    "#         run_scrape()\n",
    "#     except Exception as e:\n",
    "#         fd.close()\n",
    "#         flag = 1\n",
    "\n",
    "# 关闭文件\n",
    "fd.close()\n"
   ]
  },
  {
   "cell_type": "code",
   "execution_count": null,
   "metadata": {},
   "outputs": [],
   "source": []
  }
 ],
 "metadata": {
  "kernelspec": {
   "display_name": "Python 3",
   "language": "python",
   "name": "python3"
  },
  "language_info": {
   "codemirror_mode": {
    "name": "ipython",
    "version": 3
   },
   "file_extension": ".py",
   "mimetype": "text/x-python",
   "name": "python",
   "nbconvert_exporter": "python",
   "pygments_lexer": "ipython3",
   "version": "3.7.6"
  }
 },
 "nbformat": 4,
 "nbformat_minor": 2
}
